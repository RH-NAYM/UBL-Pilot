{
  "cells": [
    {
      "cell_type": "code",
      "execution_count": 1,
      "metadata": {
        "colab": {
          "base_uri": "https://localhost:8080/"
        },
        "id": "o53N_-53fYFH",
        "outputId": "0e737e03-76de-42bc-853f-4b231bf8c908"
      },
      "outputs": [
        {
          "name": "stdout",
          "output_type": "stream",
          "text": [
            "Mounted at /content/drive\n"
          ]
        }
      ],
      "source": [
        "# Mount Drive\n",
        "from google.colab import drive\n",
        "drive.mount('/content/drive')"
      ]
    },
    {
      "cell_type": "code",
      "execution_count": null,
      "metadata": {},
      "outputs": [],
      "source": [
        "# python train.py --img 416 --batch 1 --epochs 500 --data dataset/data.yaml --weights yolov5x6.pt --device 0 --workers 0 --cache \n",
        "# python train.py --img 416 --batch 4 --epochs 700 --data dataset/data.yaml --weights runs/train/exp/weights/best.pt --device 0 --workers 0 --cache \n",
        "\n",
        "\n",
        "# Hyper Parameter Tuning\n",
        "# python train.py --batch 1 --weights weights/BrandModel96.pt --data data/VOC.yaml --epochs 5 --img 416 --hyp data/hyps/hyp.VOC.yaml\n",
        "\n"
      ]
    },
    {
      "cell_type": "code",
      "execution_count": 2,
      "metadata": {
        "colab": {
          "base_uri": "https://localhost:8080/"
        },
        "id": "3t3QyiEKFVwI",
        "outputId": "6dfe04cd-58b4-46cd-c388-8357561ffaba"
      },
      "outputs": [
        {
          "name": "stdout",
          "output_type": "stream",
          "text": [
            "/content/drive/MyDrive/Hair_care_1\n"
          ]
        }
      ],
      "source": [
        "%cd /content/drive/MyDrive/Hair_care_1"
      ]
    },
    {
      "cell_type": "code",
      "execution_count": null,
      "metadata": {
        "id": "U5LI6xxiBrNf"
      },
      "outputs": [],
      "source": [
        "!git clone https://github.com/ultralytics/yolov5"
      ]
    },
    {
      "cell_type": "code",
      "execution_count": 3,
      "metadata": {
        "colab": {
          "base_uri": "https://localhost:8080/"
        },
        "id": "FO2V50F9EaG5",
        "outputId": "4bba5800-f54e-42f5-ac85-98763bd7b44c"
      },
      "outputs": [
        {
          "name": "stderr",
          "output_type": "stream",
          "text": [
            "YOLOv5 🚀 v7.0-162-gc3e4e94 Python-3.10.11 torch-2.0.0+cu118 CPU\n"
          ]
        },
        {
          "name": "stdout",
          "output_type": "stream",
          "text": [
            "Setup complete ✅ (2 CPUs, 12.7 GB RAM, 23.4/107.7 GB disk)\n"
          ]
        }
      ],
      "source": [
        "  # clone\n",
        "%cd yolov5\n",
        "%pip install -qr requirements.txt  # install\n",
        "%pip install utils\n",
        "\n",
        "import torch\n",
        "import utils\n",
        "display = utils.notebook_init()"
      ]
    },
    {
      "cell_type": "code",
      "execution_count": null,
      "metadata": {
        "id": "2osMH8h2GB8j"
      },
      "outputs": [],
      "source": [
        "!unzip '/content/drive/MyDrive/Hair_care_1/Archive.zip'"
      ]
    },
    {
      "cell_type": "code",
      "execution_count": null,
      "metadata": {
        "id": "ifbOcmayeaWV"
      },
      "outputs": [],
      "source": [
        "# Train New Model\n",
        "%cd /content/drive/MyDrive/Hair_care_1/yolov5\n",
        "!python train.py --img 416 --batch 4 --epochs 1000 --data dataset/data.yaml --weights weights/CountModel95.pt --device 0 --workers 0 --cache"
      ]
    },
    {
      "cell_type": "code",
      "execution_count": null,
      "metadata": {},
      "outputs": [],
      "source": []
    },
    {
      "cell_type": "code",
      "execution_count": null,
      "metadata": {
        "id": "qpfww7s4G9kk"
      },
      "outputs": [],
      "source": [
        "# Retrain Old Model\n",
        "%cd /content/drive/MyDrive/Hair_care_1/yolov5\n",
        "!python train.py --epochs 200 --data data.yaml --weights /content/drive/MyDrive/Hair_care_1/best.pt --cache"
      ]
    },
    {
      "cell_type": "code",
      "execution_count": 4,
      "metadata": {
        "colab": {
          "base_uri": "https://localhost:8080/"
        },
        "id": "O2g_S8ZIBdlb",
        "outputId": "51040a9b-1190-4bf0-d296-51ae6a820b6a"
      },
      "outputs": [
        {
          "name": "stdout",
          "output_type": "stream",
          "text": [
            "/content/drive/MyDrive/Hair_care_1/yolov5\n",
            "\u001b[34m\u001b[1mtrain: \u001b[0mweights=runs/train/exp/weights/best.pt, cfg=, data=data.yaml, hyp=data/hyps/hyp.scratch-low.yaml, epochs=2, batch_size=16, imgsz=640, rect=False, resume=False, nosave=False, noval=False, noautoanchor=False, noplots=False, evolve=None, bucket=, cache=ram, image_weights=False, device=, multi_scale=False, single_cls=False, optimizer=SGD, sync_bn=False, workers=8, project=runs/train, name=exp, exist_ok=False, quad=False, cos_lr=False, label_smoothing=0.0, patience=1000, freeze=[0], save_period=-1, seed=0, local_rank=-1, entity=None, upload_dataset=False, bbox_interval=-1, artifact_alias=latest\n",
            "\u001b[34m\u001b[1mgithub: \u001b[0mup to date with https://github.com/ultralytics/yolov5 ✅\n",
            "\u001b[31m\u001b[1mrequirements:\u001b[0m /content/drive/MyDrive/Hair_care_1/requirements.txt not found, check failed.\n",
            "YOLOv5 🚀 v7.0-162-gc3e4e94 Python-3.10.11 torch-2.0.0+cu118 CPU\n",
            "\n",
            "\u001b[34m\u001b[1mhyperparameters: \u001b[0mlr0=0.01, lrf=0.01, momentum=0.937, weight_decay=0.0005, warmup_epochs=3.0, warmup_momentum=0.8, warmup_bias_lr=0.1, box=0.05, cls=0.5, cls_pw=1.0, obj=1.0, obj_pw=1.0, iou_t=0.2, anchor_t=4.0, fl_gamma=0.0, hsv_h=0.015, hsv_s=0.7, hsv_v=0.4, degrees=0.0, translate=0.1, scale=0.5, shear=0.0, perspective=0.0, flipud=0.0, fliplr=0.5, mosaic=1.0, mixup=0.0, copy_paste=0.0\n",
            "\u001b[34m\u001b[1mClearML: \u001b[0mrun 'pip install clearml' to automatically track, visualize and remotely train YOLOv5 🚀 in ClearML\n",
            "\u001b[34m\u001b[1mComet: \u001b[0mrun 'pip install comet_ml' to automatically track and visualize YOLOv5 🚀 runs in Comet\n",
            "\u001b[34m\u001b[1mTensorBoard: \u001b[0mStart with 'tensorboard --logdir runs/train', view at http://localhost:6006/\n",
            "\n",
            "                 from  n    params  module                                  arguments                     \n",
            "  0                -1  1      8800  models.common.Conv                      [3, 80, 6, 2, 2]              \n",
            "  1                -1  1    115520  models.common.Conv                      [80, 160, 3, 2]               \n",
            "  2                -1  4    309120  models.common.C3                        [160, 160, 4]                 \n",
            "  3                -1  1    461440  models.common.Conv                      [160, 320, 3, 2]              \n",
            "  4                -1  8   2259200  models.common.C3                        [320, 320, 8]                 \n",
            "  5                -1  1   1844480  models.common.Conv                      [320, 640, 3, 2]              \n",
            "  6                -1 12  13125120  models.common.C3                        [640, 640, 12]                \n",
            "  7                -1  1   7375360  models.common.Conv                      [640, 1280, 3, 2]             \n",
            "  8                -1  4  19676160  models.common.C3                        [1280, 1280, 4]               \n",
            "  9                -1  1   4099840  models.common.SPPF                      [1280, 1280, 5]               \n",
            " 10                -1  1    820480  models.common.Conv                      [1280, 640, 1, 1]             \n",
            " 11                -1  1         0  torch.nn.modules.upsampling.Upsample    [None, 2, 'nearest']          \n",
            " 12           [-1, 6]  1         0  models.common.Concat                    [1]                           \n",
            " 13                -1  4   5332480  models.common.C3                        [1280, 640, 4, False]         \n",
            " 14                -1  1    205440  models.common.Conv                      [640, 320, 1, 1]              \n",
            " 15                -1  1         0  torch.nn.modules.upsampling.Upsample    [None, 2, 'nearest']          \n",
            " 16           [-1, 4]  1         0  models.common.Concat                    [1]                           \n",
            " 17                -1  4   1335040  models.common.C3                        [640, 320, 4, False]          \n",
            " 18                -1  1    922240  models.common.Conv                      [320, 320, 3, 2]              \n",
            " 19          [-1, 14]  1         0  models.common.Concat                    [1]                           \n",
            " 20                -1  4   4922880  models.common.C3                        [640, 640, 4, False]          \n",
            " 21                -1  1   3687680  models.common.Conv                      [640, 640, 3, 2]              \n",
            " 22          [-1, 10]  1         0  models.common.Concat                    [1]                           \n",
            " 23                -1  4  19676160  models.common.C3                        [1280, 1280, 4, False]        \n",
            " 24      [17, 20, 23]  1    195141  models.yolo.Detect                      [24, [[10, 13, 16, 30, 33, 23], [30, 61, 62, 45, 59, 119], [116, 90, 156, 198, 373, 326]], [320, 640, 1280]]\n",
            "Model summary: 445 layers, 86372581 parameters, 86372581 gradients, 205.1 GFLOPs\n",
            "\n",
            "Transferred 745/745 items from runs/train/exp/weights/best.pt\n",
            "\u001b[34m\u001b[1moptimizer:\u001b[0m SGD(lr=0.01) with parameter groups 123 weight(decay=0.0), 126 weight(decay=0.0005), 126 bias\n",
            "\u001b[34m\u001b[1malbumentations: \u001b[0mBlur(p=0.01, blur_limit=(3, 7)), MedianBlur(p=0.01, blur_limit=(3, 7)), ToGray(p=0.01), CLAHE(p=0.01, clip_limit=(1, 4.0), tile_grid_size=(8, 8))\n",
            "\u001b[34m\u001b[1mtrain: \u001b[0mScanning /content/drive/MyDrive/Hair_care_1/yolov5/train/labels.cache... 681 images, 0 backgrounds, 0 corrupt: 100% 681/681 [00:00<?, ?it/s]\n",
            "\u001b[34m\u001b[1mtrain: \u001b[0mWARNING ⚠️ /content/drive/MyDrive/Hair_care_1/yolov5/train/images/D26-1573427_jpg.rf.ef79cccab484103ad46d7233978d163e.jpg: 1 duplicate labels removed\n",
            "\u001b[34m\u001b[1mtrain: \u001b[0mWARNING ⚠️ /content/drive/MyDrive/Hair_care_1/yolov5/train/images/K31-1140_6_jpg.rf.2b852eff7beed759d8f8ed295e1b2a16.jpg: 1 duplicate labels removed\n",
            "\u001b[34m\u001b[1mtrain: \u001b[0mWARNING ⚠️ /content/drive/MyDrive/Hair_care_1/yolov5/train/images/K31-1140_6_jpg.rf.5b861e2339ca9ed32714562706cb008b.jpg: 1 duplicate labels removed\n",
            "\u001b[34m\u001b[1mtrain: \u001b[0mWARNING ⚠️ /content/drive/MyDrive/Hair_care_1/yolov5/train/images/K31-1140_6_jpg.rf.7631f85e83ca2f94fba6ca873b53db56.jpg: 1 duplicate labels removed\n",
            "\u001b[34m\u001b[1mtrain: \u001b[0mWARNING ⚠️ /content/drive/MyDrive/Hair_care_1/yolov5/train/images/K31-5120_1_jpg.rf.02b0baf5c9a920be58695d480be39e85.jpg: 1 duplicate labels removed\n",
            "\u001b[34m\u001b[1mtrain: \u001b[0mWARNING ⚠️ /content/drive/MyDrive/Hair_care_1/yolov5/train/images/K31-5120_1_jpg.rf.85b78ce999c0e7b82ae3766eb586b5c4.jpg: 1 duplicate labels removed\n",
            "\u001b[34m\u001b[1mtrain: \u001b[0mWARNING ⚠️ /content/drive/MyDrive/Hair_care_1/yolov5/train/images/K31-5120_1_jpg.rf.df6d7364540750b874e4fa104c1877b1.jpg: 1 duplicate labels removed\n",
            "\u001b[34m\u001b[1mtrain: \u001b[0mCaching images (0.8GB ram): 100% 681/681 [00:08<00:00, 81.67it/s]\n",
            "\u001b[34m\u001b[1mval: \u001b[0mScanning /content/drive/MyDrive/Hair_care_1/yolov5/valid/labels.cache... 63 images, 0 backgrounds, 0 corrupt: 100% 63/63 [00:00<?, ?it/s]\n",
            "\u001b[34m\u001b[1mval: \u001b[0mCaching images (0.1GB ram): 100% 63/63 [00:15<00:00,  4.01it/s]\n",
            "\n",
            "\u001b[34m\u001b[1mAutoAnchor: \u001b[0m5.18 anchors/target, 0.998 Best Possible Recall (BPR). Current anchors are a good fit to dataset ✅\n",
            "Plotting labels to runs/train/exp2/labels.jpg... \n",
            "Image sizes 640 train, 640 val\n",
            "Using 2 dataloader workers\n",
            "Logging results to \u001b[1mruns/train/exp2\u001b[0m\n",
            "Starting training for 2 epochs...\n",
            "\n",
            "      Epoch    GPU_mem   box_loss   obj_loss   cls_loss  Instances       Size\n",
            "  0% 0/43 [00:00<?, ?it/s]^C\n"
          ]
        }
      ],
      "source": [
        "# Retrain Old Model\n",
        "%cd /content/drive/MyDrive/Hair_care_1/yolov5\n",
        "!python train.py --epochs 2 --data data.yaml --weights runs/train/exp/weights/best.pt --cache"
      ]
    },
    {
      "cell_type": "code",
      "execution_count": null,
      "metadata": {
        "id": "mZxpMSyeH7_c"
      },
      "outputs": [],
      "source": [
        "# Retrain Old Model\n",
        "%cd /content/drive/MyDrive/Hair_care_1/yolov5\n",
        "!python train.py --epochs 200 --data data.yaml --weights runs/train/exp2/weights/best.pt --cache"
      ]
    },
    {
      "cell_type": "code",
      "execution_count": null,
      "metadata": {
        "id": "jnd_-V5SH782"
      },
      "outputs": [],
      "source": [
        "# Retrain Old Model\n",
        "%cd /content/drive/MyDrive/Hair_care_1/yolov5\n",
        "!python train.py --epochs 2 --data data.yaml --weights runs/train/exp3/weights/best.pt --cache"
      ]
    },
    {
      "cell_type": "code",
      "execution_count": null,
      "metadata": {
        "id": "oCQfYYLqH76h"
      },
      "outputs": [],
      "source": [
        "# Retrain Old Model\n",
        "%cd /content/drive/MyDrive/Hair_care_1/yolov5\n",
        "!python train.py --epochs 200 --data data.yaml --weights runs/train/exp4/weights/best.pt --cache"
      ]
    },
    {
      "cell_type": "code",
      "execution_count": null,
      "metadata": {
        "id": "blaDeh1YH74G"
      },
      "outputs": [],
      "source": [
        "# Retrain Old Model\n",
        "%cd /content/drive/MyDrive/Hair_care_1/yolov5\n",
        "!python train.py --epochs 200 --data data.yaml --weights runs/train/exp5/weights/best.pt --cache"
      ]
    },
    {
      "cell_type": "code",
      "execution_count": null,
      "metadata": {
        "colab": {
          "background_save": true
        },
        "id": "M0DzNB4zH71d"
      },
      "outputs": [],
      "source": [
        "# Retrain Old Model\n",
        "%cd /content/drive/MyDrive/Hair_care_1/yolov5\n",
        "!python train.py --epochs 200 --data data.yaml --weights runs/train/exp6/weights/best.pt --cache"
      ]
    },
    {
      "cell_type": "code",
      "execution_count": null,
      "metadata": {
        "colab": {
          "background_save": true
        },
        "id": "0ZpQoO37H7y2"
      },
      "outputs": [],
      "source": [
        "# Retrain Old Model\n",
        "%cd /content/drive/MyDrive/Hair_care_1/yolov5\n",
        "!python train.py --epochs 200 --data data.yaml --weights runs/train/exp7/weights/best.pt --cache"
      ]
    },
    {
      "cell_type": "code",
      "execution_count": null,
      "metadata": {
        "id": "yhYeNKz2yqMD"
      },
      "outputs": [],
      "source": [
        "# Retrain Old Model\n",
        "%cd /content/drive/MyDrive/Hair_care_1/yolov5\n",
        "!python train.py --epochs 1000 --data data.yaml --weights runs/train/exp8/weights/best.pt --cache"
      ]
    },
    {
      "attachments": {},
      "cell_type": "markdown",
      "metadata": {
        "id": "bFMsnuTY_18J"
      },
      "source": [
        "function ClickConnect(){\n",
        "console.log(\"Working\"); \n",
        "document.querySelector(\"colab-toolbar-button#connect\").click() \n",
        "}\n",
        "setInterval(ClickConnect,60000)"
      ]
    },
    {
      "cell_type": "code",
      "execution_count": null,
      "metadata": {
        "id": "gEcC1-LLvzMx"
      },
      "outputs": [],
      "source": [
        "# Retrain Old Model\n",
        "%cd /content/drive/MyDrive/train_sample/yolov5\n",
        "!python train.py --epochs 1000 --data data.yaml --weights runs/train/exp/weights/best.pt --cache"
      ]
    },
    {
      "cell_type": "code",
      "execution_count": null,
      "metadata": {
        "id": "OxnWDZrxAfeJ"
      },
      "outputs": [],
      "source": [
        "# Retrain Old Model\n",
        "%cd /content/drive/MyDrive/train_sample/yolov5\n",
        "!python train.py --epochs 1000 --data data.yaml --weights runs/train/exp2/weights/best.pt --cache"
      ]
    },
    {
      "cell_type": "code",
      "execution_count": null,
      "metadata": {
        "id": "xUPs94IQAiHd"
      },
      "outputs": [],
      "source": [
        "# Retrain Old Model\n",
        "%cd /content/drive/MyDrive/train_sample/yolov5\n",
        "!python train.py --epochs 1000 --data data.yaml --weights runs/train/exp3/weights/best.pt --cache"
      ]
    },
    {
      "cell_type": "code",
      "execution_count": null,
      "metadata": {
        "id": "epKgOyyBUGtp"
      },
      "outputs": [],
      "source": [
        "%cd /content/drive/MyDrive/train_sample/yolov5/\n",
        "!python export.py --weights runs/train/exp2/weights/best.pt --include tflite\n"
      ]
    },
    {
      "cell_type": "code",
      "execution_count": null,
      "metadata": {
        "id": "z6rqnleA9N6f"
      },
      "outputs": [],
      "source": [
        "%cd /content/drive/MyDrive/Hair_care_1/yolov5\n",
        "%reload_ext tensorboard\n",
        "%tensorboard --logdir runs/train"
      ]
    },
    {
      "attachments": {},
      "cell_type": "markdown",
      "metadata": {
        "id": "7aiz4-HFVFRw"
      },
      "source": [
        "function ClickConnect(){\n",
        "console.log(\"Working\"); \n",
        "document.querySelector(\"colab-toolbar-button#connect\").click() \n",
        "}\n",
        "setInterval(ClickConnect,60000)"
      ]
    },
    {
      "cell_type": "code",
      "execution_count": 7,
      "metadata": {
        "id": "UGnMJ89KVk0w"
      },
      "outputs": [
        {
          "name": "stderr",
          "output_type": "stream",
          "text": [
            "YOLOv5  v7.0-140-g1db95338 Python-3.11.3 torch-2.0.1+cu118 CUDA:0 (NVIDIA GeForce RTX 3060, 12288MiB)\n"
          ]
        },
        {
          "name": "stdout",
          "output_type": "stream",
          "text": [
            "Setup complete  (16 CPUs, 15.9 GB RAM, 168.1/465.0 GB disk)\n"
          ]
        }
      ],
      "source": [
        "import torch\n",
        "import utils\n",
        "display = utils.notebook_init()  # checks"
      ]
    },
    {
      "cell_type": "code",
      "execution_count": 18,
      "metadata": {
        "id": "98L7C2FQJPFJ"
      },
      "outputs": [
        {
          "name": "stderr",
          "output_type": "stream",
          "text": [
            "\u001b[34m\u001b[1mdetect: \u001b[0mweights=['weights/CountModel95.pt'], source=dataset/train/images, data=data\\coco128.yaml, imgsz=[640, 640], conf_thres=0.25, iou_thres=0.45, max_det=1000, device=0, view_img=False, save_txt=False, save_conf=False, save_crop=False, nosave=False, classes=None, agnostic_nms=False, augment=False, visualize=False, update=False, project=runs\\detect, name=exp, exist_ok=False, line_thickness=3, hide_labels=False, hide_conf=False, half=False, dnn=False, vid_stride=1\n",
            "error: non-monotonic index .git/objects/pack/._pack-ac1418872e006d8745837808405bc426bf0afd45.idx\n",
            "error: non-monotonic index .git/objects/pack/._pack-ac1418872e006d8745837808405bc426bf0afd45.idx\n",
            "YOLOv5  v7.0-140-g1db95338 Python-3.11.3 torch-2.0.1+cu118 CUDA:0 (NVIDIA GeForce RTX 3060, 12288MiB)\n",
            "\n",
            "Fusing layers... \n",
            "Model summary: 416 layers, 140230396 parameters, 0 gradients, 208.5 GFLOPs\n",
            "image 1/492 C:\\Users\\naymm\\OneDrive\\Desktop\\Working\\2nd\\test1\\yolov5\\dataset\\train\\images\\1685290691788_jpg.rf.4eca72097f890b7ce051b799c6989480.jpg: 192x640 (no detections), 95.6ms\n",
            "image 2/492 C:\\Users\\naymm\\OneDrive\\Desktop\\Working\\2nd\\test1\\yolov5\\dataset\\train\\images\\1685290691788_jpg.rf.63925dc4a850d507c8b0d7476e8cf788.jpg: 192x640 (no detections), 19.5ms\n",
            "image 3/492 C:\\Users\\naymm\\OneDrive\\Desktop\\Working\\2nd\\test1\\yolov5\\dataset\\train\\images\\1685290691788_jpg.rf.6faf9f5c7846f532e777ab0ebcde4006.jpg: 192x640 (no detections), 19.4ms\n",
            "image 4/492 C:\\Users\\naymm\\OneDrive\\Desktop\\Working\\2nd\\test1\\yolov5\\dataset\\train\\images\\1685290691848_jpg.rf.b76faf7fa85ecf28c7417b07b6174142.jpg: 640x640 1 h, 40.4ms\n",
            "image 5/492 C:\\Users\\naymm\\OneDrive\\Desktop\\Working\\2nd\\test1\\yolov5\\dataset\\train\\images\\1685290691848_jpg.rf.be5612e74bef33f99056790424e94908.jpg: 640x640 1 h, 40.6ms\n",
            "image 6/492 C:\\Users\\naymm\\OneDrive\\Desktop\\Working\\2nd\\test1\\yolov5\\dataset\\train\\images\\1685290691848_jpg.rf.d4fcf057900888576aa04ca1743f7556.jpg: 640x640 (no detections), 39.6ms\n",
            "image 7/492 C:\\Users\\naymm\\OneDrive\\Desktop\\Working\\2nd\\test1\\yolov5\\dataset\\train\\images\\1685291954774_jpg.rf.52797ce29ae35d2e321978b1075f489e.jpg: 256x640 1 f, 91.6ms\n",
            "image 8/492 C:\\Users\\naymm\\OneDrive\\Desktop\\Working\\2nd\\test1\\yolov5\\dataset\\train\\images\\1685291954774_jpg.rf.ccc7f1f2c408e88f443302a38a7d15c0.jpg: 256x640 1 f, 20.0ms\n",
            "image 9/492 C:\\Users\\naymm\\OneDrive\\Desktop\\Working\\2nd\\test1\\yolov5\\dataset\\train\\images\\1685291954774_jpg.rf.d241f3495617d03bca8da500f86749a3.jpg: 256x640 (no detections), 19.3ms\n",
            "image 10/492 C:\\Users\\naymm\\OneDrive\\Desktop\\Working\\2nd\\test1\\yolov5\\dataset\\train\\images\\1685292217262_jpg.rf.276407c3b666fcaa93c682729ae647da.jpg: 384x640 4 fs, 1 h, 90.8ms\n",
            "image 11/492 C:\\Users\\naymm\\OneDrive\\Desktop\\Working\\2nd\\test1\\yolov5\\dataset\\train\\images\\1685292217262_jpg.rf.3cc77dd9598645f06f452c204714daed.jpg: 384x640 3 fs, 1 h, 27.6ms\n",
            "image 12/492 C:\\Users\\naymm\\OneDrive\\Desktop\\Working\\2nd\\test1\\yolov5\\dataset\\train\\images\\1685292217262_jpg.rf.b80dd68a41a15a64f2e0d4b04d0d9f14.jpg: 384x640 3 fs, 1 h, 27.1ms\n",
            "image 13/492 C:\\Users\\naymm\\OneDrive\\Desktop\\Working\\2nd\\test1\\yolov5\\dataset\\train\\images\\1685292217265_jpg.rf.17d7b8bdd5830a6b5756c81899c8b575.jpg: 192x640 1 f, 29.6ms\n",
            "image 14/492 C:\\Users\\naymm\\OneDrive\\Desktop\\Working\\2nd\\test1\\yolov5\\dataset\\train\\images\\1685292217265_jpg.rf.50fbccaa2d2d405a87511e24232ecafe.jpg: 192x640 1 f, 1 h, 29.1ms\n",
            "image 15/492 C:\\Users\\naymm\\OneDrive\\Desktop\\Working\\2nd\\test1\\yolov5\\dataset\\train\\images\\1685292217265_jpg.rf.64ec040aac0f71cb73441b38367c9242.jpg: 192x640 1 f, 28.1ms\n",
            "image 16/492 C:\\Users\\naymm\\OneDrive\\Desktop\\Working\\2nd\\test1\\yolov5\\dataset\\train\\images\\1685292217292_jpg.rf.5b843b69c91a099df153ec03e38edd60.jpg: 640x640 1 f, 1 h, 38.1ms\n",
            "image 17/492 C:\\Users\\naymm\\OneDrive\\Desktop\\Working\\2nd\\test1\\yolov5\\dataset\\train\\images\\1685292217292_jpg.rf.92147edfaaa3b1a78429cfa2c662bf67.jpg: 640x640 1 h, 38.1ms\n",
            "image 18/492 C:\\Users\\naymm\\OneDrive\\Desktop\\Working\\2nd\\test1\\yolov5\\dataset\\train\\images\\1685292217292_jpg.rf.dc5c1fe83a2c21d83c496b0cc42b2248.jpg: 640x640 1 h, 38.1ms\n",
            "image 19/492 C:\\Users\\naymm\\OneDrive\\Desktop\\Working\\2nd\\test1\\yolov5\\dataset\\train\\images\\1685292217296_jpg.rf.220460e701b984d69c2fc501c1b00aa8.jpg: 640x640 1 f, 3 hs, 38.1ms\n",
            "image 20/492 C:\\Users\\naymm\\OneDrive\\Desktop\\Working\\2nd\\test1\\yolov5\\dataset\\train\\images\\1685292217296_jpg.rf.431b7042b99653f2c9dbdda4a2cd7f45.jpg: 640x640 2 fs, 2 hs, 37.1ms\n",
            "image 21/492 C:\\Users\\naymm\\OneDrive\\Desktop\\Working\\2nd\\test1\\yolov5\\dataset\\train\\images\\1685292217296_jpg.rf.7f644523b3e891a288dc8b62647b2f71.jpg: 640x640 2 fs, 2 hs, 38.6ms\n",
            "image 22/492 C:\\Users\\naymm\\OneDrive\\Desktop\\Working\\2nd\\test1\\yolov5\\dataset\\train\\images\\1685292610615_jpg.rf.9d322bed7c5e1fd80636c00a145e82da.jpg: 192x640 (no detections), 29.5ms\n",
            "image 23/492 C:\\Users\\naymm\\OneDrive\\Desktop\\Working\\2nd\\test1\\yolov5\\dataset\\train\\images\\1685292610615_jpg.rf.d777247046a8383759d1125aed7deba3.jpg: 192x640 (no detections), 16.5ms\n",
            "image 24/492 C:\\Users\\naymm\\OneDrive\\Desktop\\Working\\2nd\\test1\\yolov5\\dataset\\train\\images\\1685292610615_jpg.rf.eb667f84da1f60d93d0da146a31653bb.jpg: 192x640 (no detections), 29.5ms\n",
            "image 25/492 C:\\Users\\naymm\\OneDrive\\Desktop\\Working\\2nd\\test1\\yolov5\\dataset\\train\\images\\1685292610617_jpg.rf.238ee5b625bc570f8d8703f76e62c5bc.jpg: 320x640 1 f, 1 g, 105.2ms\n",
            "image 26/492 C:\\Users\\naymm\\OneDrive\\Desktop\\Working\\2nd\\test1\\yolov5\\dataset\\train\\images\\1685292610617_jpg.rf.31f5d4f16a1bb61b5bab412de79463ff.jpg: 320x640 1 f, 26.1ms\n",
            "image 27/492 C:\\Users\\naymm\\OneDrive\\Desktop\\Working\\2nd\\test1\\yolov5\\dataset\\train\\images\\1685292610617_jpg.rf.c09bbbb0798f52e504d32836e7db33a0.jpg: 320x640 1 f, 1 g, 27.1ms\n",
            "image 28/492 C:\\Users\\naymm\\OneDrive\\Desktop\\Working\\2nd\\test1\\yolov5\\dataset\\train\\images\\1685292610619_jpg.rf.0330f4a10a539dc52a28824afba7e40b.jpg: 576x640 4 fs, 1 g, 1 h, 107.8ms\n",
            "image 29/492 C:\\Users\\naymm\\OneDrive\\Desktop\\Working\\2nd\\test1\\yolov5\\dataset\\train\\images\\1685292610619_jpg.rf.48ee234c468152a66df81d1dfc386c49.jpg: 576x640 3 fs, 1 g, 38.6ms\n",
            "image 30/492 C:\\Users\\naymm\\OneDrive\\Desktop\\Working\\2nd\\test1\\yolov5\\dataset\\train\\images\\1685292610619_jpg.rf.693a8ae2a0eafd9fea5d44b2cd6e82b0.jpg: 576x640 3 fs, 1 g, 37.6ms\n",
            "image 31/492 C:\\Users\\naymm\\OneDrive\\Desktop\\Working\\2nd\\test1\\yolov5\\dataset\\train\\images\\1685292610633_jpg.rf.633b81c07340469200069aba9dbd03c6.jpg: 192x640 1 p, 30.6ms\n",
            "image 32/492 C:\\Users\\naymm\\OneDrive\\Desktop\\Working\\2nd\\test1\\yolov5\\dataset\\train\\images\\1685292610633_jpg.rf.6565ef6dfe3bdfec7621a7699a2e8a3f.jpg: 192x640 1 f, 29.0ms\n",
            "image 33/492 C:\\Users\\naymm\\OneDrive\\Desktop\\Working\\2nd\\test1\\yolov5\\dataset\\train\\images\\1685292610633_jpg.rf.fb9ea9f260cd04ffa2e195b81173528f.jpg: 192x640 1 p, 28.1ms\n",
            "image 34/492 C:\\Users\\naymm\\OneDrive\\Desktop\\Working\\2nd\\test1\\yolov5\\dataset\\train\\images\\1685292610635_jpg.rf.471ad3b93c2cdf4d7808f2c790950815.jpg: 640x640 3 fs, 39.1ms\n",
            "image 35/492 C:\\Users\\naymm\\OneDrive\\Desktop\\Working\\2nd\\test1\\yolov5\\dataset\\train\\images\\1685292610635_jpg.rf.8abb27752ddb4652d06690b3684c69cc.jpg: 640x640 3 fs, 38.1ms\n",
            "image 36/492 C:\\Users\\naymm\\OneDrive\\Desktop\\Working\\2nd\\test1\\yolov5\\dataset\\train\\images\\1685292610635_jpg.rf.dbc6f3daba77286124ea8921164dd3b5.jpg: 640x640 3 fs, 38.1ms\n",
            "image 37/492 C:\\Users\\naymm\\OneDrive\\Desktop\\Working\\2nd\\test1\\yolov5\\dataset\\train\\images\\1685292610644_jpg.rf.07afe5b0142132b10ac62c6950f0c2cb.jpg: 640x640 1 f, 1 g, 38.1ms\n",
            "image 38/492 C:\\Users\\naymm\\OneDrive\\Desktop\\Working\\2nd\\test1\\yolov5\\dataset\\train\\images\\1685292610644_jpg.rf.164aeda806c281e24602b87360ee131c.jpg: 640x640 2 fs, 1 g, 1 j, 37.6ms\n",
            "image 39/492 C:\\Users\\naymm\\OneDrive\\Desktop\\Working\\2nd\\test1\\yolov5\\dataset\\train\\images\\1685292610644_jpg.rf.2b79bae7b5ef5adc56a25ebdd8e981c0.jpg: 640x640 1 d, 2 fs, 1 g, 37.6ms\n",
            "image 40/492 C:\\Users\\naymm\\OneDrive\\Desktop\\Working\\2nd\\test1\\yolov5\\dataset\\train\\images\\1685293071781_jpg.rf.76f6214a78b9db3a0c9a14145cdefa99.jpg: 384x640 2 ps, 2 rs, 26.0ms\n",
            "image 41/492 C:\\Users\\naymm\\OneDrive\\Desktop\\Working\\2nd\\test1\\yolov5\\dataset\\train\\images\\1685293071781_jpg.rf.94551678de63a69b1f6c775739963327.jpg: 384x640 2 ps, 2 rs, 27.5ms\n",
            "image 42/492 C:\\Users\\naymm\\OneDrive\\Desktop\\Working\\2nd\\test1\\yolov5\\dataset\\train\\images\\1685293071781_jpg.rf.bb0e1e72b27674cf004130c130d393e5.jpg: 384x640 2 ps, 2 rs, 27.6ms\n",
            "image 43/492 C:\\Users\\naymm\\OneDrive\\Desktop\\Working\\2nd\\test1\\yolov5\\dataset\\train\\images\\1685293071783_jpg.rf.47635eee81fb75adef499caa5f9da3a6.jpg: 320x640 (no detections), 23.6ms\n",
            "image 44/492 C:\\Users\\naymm\\OneDrive\\Desktop\\Working\\2nd\\test1\\yolov5\\dataset\\train\\images\\1685293071783_jpg.rf.9c25c00389773d08a3e5fa119c1f1f4a.jpg: 320x640 1 r, 25.6ms\n",
            "image 45/492 C:\\Users\\naymm\\OneDrive\\Desktop\\Working\\2nd\\test1\\yolov5\\dataset\\train\\images\\1685293071783_jpg.rf.b1bcd95f442ec76f25c401a93bfd6f61.jpg: 320x640 1 i, 1 r, 26.1ms\n",
            "image 46/492 C:\\Users\\naymm\\OneDrive\\Desktop\\Working\\2nd\\test1\\yolov5\\dataset\\train\\images\\1685293071793_jpg.rf.3ae9785e984bc5d41f10c11aeea53217.jpg: 320x640 1 p, 2 rs, 1 s, 25.5ms\n",
            "image 47/492 C:\\Users\\naymm\\OneDrive\\Desktop\\Working\\2nd\\test1\\yolov5\\dataset\\train\\images\\1685293071793_jpg.rf.5712827ce7ae939b406060af9e06d908.jpg: 320x640 2 rs, 2 ss, 23.7ms\n",
            "image 48/492 C:\\Users\\naymm\\OneDrive\\Desktop\\Working\\2nd\\test1\\yolov5\\dataset\\train\\images\\1685293071793_jpg.rf.8219401fdd7d8db346bbd2108523a800.jpg: 320x640 1 j, 1 r, 2 ss, 23.6ms\n",
            "image 49/492 C:\\Users\\naymm\\OneDrive\\Desktop\\Working\\2nd\\test1\\yolov5\\dataset\\train\\images\\1685293071796_jpg.rf.1d456446eaa01ad170700097ae3228ba.jpg: 320x640 1 r, 26.6ms\n",
            "image 50/492 C:\\Users\\naymm\\OneDrive\\Desktop\\Working\\2nd\\test1\\yolov5\\dataset\\train\\images\\1685293071796_jpg.rf.8f4efce3d66a5a72e1b1687b1d42a62e.jpg: 320x640 2 ps, 1 r, 25.5ms\n",
            "image 51/492 C:\\Users\\naymm\\OneDrive\\Desktop\\Working\\2nd\\test1\\yolov5\\dataset\\train\\images\\1685293071796_jpg.rf.bfa0239438b0ddfb4362be47eb4d67b9.jpg: 320x640 2 ps, 1 r, 26.1ms\n",
            "image 52/492 C:\\Users\\naymm\\OneDrive\\Desktop\\Working\\2nd\\test1\\yolov5\\dataset\\train\\images\\1685293071798_jpg.rf.0c5beea15293288fc4fc7005db68d75b.jpg: 640x640 1 f, 1 i, 1 p, 36.8ms\n",
            "image 53/492 C:\\Users\\naymm\\OneDrive\\Desktop\\Working\\2nd\\test1\\yolov5\\dataset\\train\\images\\1685293071798_jpg.rf.1c12e091a02f119d19298412cf8076be.jpg: 640x640 1 i, 38.1ms\n",
            "image 54/492 C:\\Users\\naymm\\OneDrive\\Desktop\\Working\\2nd\\test1\\yolov5\\dataset\\train\\images\\1685293071798_jpg.rf.c64e2b709b31597e56dc0005abadcf22.jpg: 640x640 1 i, 37.5ms\n",
            "image 55/492 C:\\Users\\naymm\\OneDrive\\Desktop\\Working\\2nd\\test1\\yolov5\\dataset\\train\\images\\1685293071800_jpg.rf.17c388d3b4e810691561f2f040dcb5fd.jpg: 640x640 3 is, 4 js, 37.6ms\n",
            "image 56/492 C:\\Users\\naymm\\OneDrive\\Desktop\\Working\\2nd\\test1\\yolov5\\dataset\\train\\images\\1685293071800_jpg.rf.76d995957b6c9f62ee8aebe8edcd8dfe.jpg: 640x640 3 is, 4 js, 37.6ms\n",
            "image 57/492 C:\\Users\\naymm\\OneDrive\\Desktop\\Working\\2nd\\test1\\yolov5\\dataset\\train\\images\\1685293071800_jpg.rf.e4871e9153348a207f4cf40830d1694f.jpg: 640x640 3 is, 3 js, 38.0ms\n",
            "image 58/492 C:\\Users\\naymm\\OneDrive\\Desktop\\Working\\2nd\\test1\\yolov5\\dataset\\train\\images\\1685293071804_jpg.rf.87841c4e19c92cfa316c3129c32cf9c2.jpg: 640x640 1 i, 37.1ms\n",
            "image 59/492 C:\\Users\\naymm\\OneDrive\\Desktop\\Working\\2nd\\test1\\yolov5\\dataset\\train\\images\\1685293071804_jpg.rf.983478bf05d7da97bdc7cc29e728711b.jpg: 640x640 1 i, 1 j, 1 w, 38.1ms\n",
            "image 60/492 C:\\Users\\naymm\\OneDrive\\Desktop\\Working\\2nd\\test1\\yolov5\\dataset\\train\\images\\1685293071804_jpg.rf.b43edc89c46f60d9e2bdc1907bbd750d.jpg: 640x640 1 i, 37.5ms\n",
            "image 61/492 C:\\Users\\naymm\\OneDrive\\Desktop\\Working\\2nd\\test1\\yolov5\\dataset\\train\\images\\1685293071809_jpg.rf.42e2e4d9e9affef3a974692dc1fe4beb.jpg: 640x640 1 i, 1 p, 37.6ms\n",
            "image 62/492 C:\\Users\\naymm\\OneDrive\\Desktop\\Working\\2nd\\test1\\yolov5\\dataset\\train\\images\\1685293071809_jpg.rf.818cb7416d6e600a9f32fd56f256b45c.jpg: 640x640 1 i, 2 ps, 38.1ms\n",
            "image 63/492 C:\\Users\\naymm\\OneDrive\\Desktop\\Working\\2nd\\test1\\yolov5\\dataset\\train\\images\\1685293071809_jpg.rf.bce22a83e72a5fbfb81f803206561f64.jpg: 640x640 1 i, 2 ps, 37.6ms\n",
            "image 64/492 C:\\Users\\naymm\\OneDrive\\Desktop\\Working\\2nd\\test1\\yolov5\\dataset\\train\\images\\1685293301717_jpg.rf.01b10a4ff66f1269cc72d6b2e0459aa8.jpg: 384x640 1 r, 28.0ms\n",
            "image 65/492 C:\\Users\\naymm\\OneDrive\\Desktop\\Working\\2nd\\test1\\yolov5\\dataset\\train\\images\\1685293301717_jpg.rf.559ec66c309094c7474f422e0c87c986.jpg: 384x640 2 ps, 1 r, 27.3ms\n",
            "image 66/492 C:\\Users\\naymm\\OneDrive\\Desktop\\Working\\2nd\\test1\\yolov5\\dataset\\train\\images\\1685293301717_jpg.rf.58c097aa62fca359c3c0f202e1f30264.jpg: 384x640 2 ps, 1 r, 27.6ms\n",
            "image 67/492 C:\\Users\\naymm\\OneDrive\\Desktop\\Working\\2nd\\test1\\yolov5\\dataset\\train\\images\\1685293301720_jpg.rf.d2e02df575186eb4eee29b4ade387743.jpg: 384x640 1 p, 2 rs, 28.6ms\n",
            "image 68/492 C:\\Users\\naymm\\OneDrive\\Desktop\\Working\\2nd\\test1\\yolov5\\dataset\\train\\images\\1685293301720_jpg.rf.d7d4164238462d756c4b447d4cc9eb93.jpg: 384x640 1 p, 28.1ms\n",
            "image 69/492 C:\\Users\\naymm\\OneDrive\\Desktop\\Working\\2nd\\test1\\yolov5\\dataset\\train\\images\\1685293301720_jpg.rf.e3424d31587629073c8d57a678841bbc.jpg: 384x640 1 p, 1 r, 27.6ms\n",
            "image 70/492 C:\\Users\\naymm\\OneDrive\\Desktop\\Working\\2nd\\test1\\yolov5\\dataset\\train\\images\\1685293301724_jpg.rf.2c67bc7ba9c8f6ac108bcb2180d28a10.jpg: 320x640 1 r, 27.6ms\n",
            "image 71/492 C:\\Users\\naymm\\OneDrive\\Desktop\\Working\\2nd\\test1\\yolov5\\dataset\\train\\images\\1685293301724_jpg.rf.4ae123e62c548941f23ce006a1c2f27d.jpg: 320x640 1 r, 26.1ms\n",
            "image 72/492 C:\\Users\\naymm\\OneDrive\\Desktop\\Working\\2nd\\test1\\yolov5\\dataset\\train\\images\\1685293301724_jpg.rf.6125e92cdaff2e366c18a5ad21475f03.jpg: 320x640 1 r, 25.6ms\n",
            "image 73/492 C:\\Users\\naymm\\OneDrive\\Desktop\\Working\\2nd\\test1\\yolov5\\dataset\\train\\images\\1685293301730_jpg.rf.2b9ce0a2354db863b51a2e91104237a9.jpg: 640x640 1 r, 38.6ms\n",
            "image 74/492 C:\\Users\\naymm\\OneDrive\\Desktop\\Working\\2nd\\test1\\yolov5\\dataset\\train\\images\\1685293301730_jpg.rf.65c6918b27ed5e42e67d086b5f86e53d.jpg: 640x640 1 p, 1 r, 37.6ms\n",
            "image 75/492 C:\\Users\\naymm\\OneDrive\\Desktop\\Working\\2nd\\test1\\yolov5\\dataset\\train\\images\\1685293301730_jpg.rf.9d3a17ba4930dd2257db0e78d1887824.jpg: 640x640 1 j, 1 p, 1 r, 37.1ms\n",
            "image 76/492 C:\\Users\\naymm\\OneDrive\\Desktop\\Working\\2nd\\test1\\yolov5\\dataset\\train\\images\\1685293301732_jpg.rf.18325b1e5cf4ca2f791da42fc3d881c1.jpg: 640x640 1 p, 1 r, 38.6ms\n",
            "image 77/492 C:\\Users\\naymm\\OneDrive\\Desktop\\Working\\2nd\\test1\\yolov5\\dataset\\train\\images\\1685293301732_jpg.rf.3df34e2d9a7c9f5e7e02993915fcedb6.jpg: 640x640 1 i, 1 p, 38.4ms\n",
            "image 78/492 C:\\Users\\naymm\\OneDrive\\Desktop\\Working\\2nd\\test1\\yolov5\\dataset\\train\\images\\1685293301732_jpg.rf.9defbcb2ff441bda368969dcd6dc2934.jpg: 640x640 1 i, 1 p, 38.6ms\n",
            "image 79/492 C:\\Users\\naymm\\OneDrive\\Desktop\\Working\\2nd\\test1\\yolov5\\dataset\\train\\images\\1685293301739_png.rf.8572d454e01b6f9d1b6453a1ca453e01.jpg: 640x640 1 i, 1 j, 2 ks, 38.6ms\n",
            "image 80/492 C:\\Users\\naymm\\OneDrive\\Desktop\\Working\\2nd\\test1\\yolov5\\dataset\\train\\images\\1685293301739_png.rf.e91d2926cee767634998d84557935467.jpg: 640x640 1 i, 1 j, 3 ks, 38.1ms\n",
            "image 81/492 C:\\Users\\naymm\\OneDrive\\Desktop\\Working\\2nd\\test1\\yolov5\\dataset\\train\\images\\1685293301739_png.rf.f197066c8b62f71518a17e7dd9a2597f.jpg: 640x640 1 i, 1 j, 3 ks, 38.1ms\n",
            "image 82/492 C:\\Users\\naymm\\OneDrive\\Desktop\\Working\\2nd\\test1\\yolov5\\dataset\\train\\images\\1685293635157_jpg.rf.8246777de5284d9ba1bc379bac128c73.jpg: 256x640 1 k, 19.6ms\n",
            "image 83/492 C:\\Users\\naymm\\OneDrive\\Desktop\\Working\\2nd\\test1\\yolov5\\dataset\\train\\images\\1685293635157_jpg.rf.e45f1fa837b07ae3afeea1c0229d29d8.jpg: 256x640 1 k, 19.5ms\n",
            "image 84/492 C:\\Users\\naymm\\OneDrive\\Desktop\\Working\\2nd\\test1\\yolov5\\dataset\\train\\images\\1685293635157_jpg.rf.f1b1605f6f50e9736d923d77406b1949.jpg: 256x640 1 k, 27.1ms\n",
            "image 85/492 C:\\Users\\naymm\\OneDrive\\Desktop\\Working\\2nd\\test1\\yolov5\\dataset\\train\\images\\1685293635162_jpg.rf.7df262ff7a01145231e6837390d9600e.jpg: 256x640 1 k, 26.5ms\n",
            "image 86/492 C:\\Users\\naymm\\OneDrive\\Desktop\\Working\\2nd\\test1\\yolov5\\dataset\\train\\images\\1685293635162_jpg.rf.95f84217e30fdc51517c4767149bff2d.jpg: 256x640 1 k, 27.3ms\n",
            "image 87/492 C:\\Users\\naymm\\OneDrive\\Desktop\\Working\\2nd\\test1\\yolov5\\dataset\\train\\images\\1685293635162_jpg.rf.e9c3385d392774013609cd3041c621db.jpg: 256x640 1 k, 27.2ms\n",
            "image 88/492 C:\\Users\\naymm\\OneDrive\\Desktop\\Working\\2nd\\test1\\yolov5\\dataset\\train\\images\\1685293635164_jpg.rf.671fcd12a8b98d74a4166c812a842773.jpg: 256x640 1 k, 27.6ms\n",
            "image 89/492 C:\\Users\\naymm\\OneDrive\\Desktop\\Working\\2nd\\test1\\yolov5\\dataset\\train\\images\\1685293635164_jpg.rf.e498acdd61234d9c511c6b07aa624d2d.jpg: 256x640 1 k, 28.1ms\n",
            "image 90/492 C:\\Users\\naymm\\OneDrive\\Desktop\\Working\\2nd\\test1\\yolov5\\dataset\\train\\images\\1685293635164_jpg.rf.ef04dc7d3c91c3f919ddd08a3e26fc99.jpg: 256x640 1 k, 28.6ms\n",
            "image 91/492 C:\\Users\\naymm\\OneDrive\\Desktop\\Working\\2nd\\test1\\yolov5\\dataset\\train\\images\\1685293635168_jpg.rf.0ba2a6774dda3045b59a73ac59989437.jpg: 192x640 3 ks, 30.1ms\n",
            "image 92/492 C:\\Users\\naymm\\OneDrive\\Desktop\\Working\\2nd\\test1\\yolov5\\dataset\\train\\images\\1685293635168_jpg.rf.273ea6635663246339c5773075868aa0.jpg: 192x640 3 ks, 28.6ms\n",
            "image 93/492 C:\\Users\\naymm\\OneDrive\\Desktop\\Working\\2nd\\test1\\yolov5\\dataset\\train\\images\\1685293635168_jpg.rf.ab66ddcd0214093210f692bb3e5d40e6.jpg: 192x640 3 ks, 16.6ms\n",
            "image 94/492 C:\\Users\\naymm\\OneDrive\\Desktop\\Working\\2nd\\test1\\yolov5\\dataset\\train\\images\\1685293635174_jpg.rf.2e6001cb04c87559a9ec03ed03c8a960.jpg: 192x640 1 k, 28.1ms\n",
            "image 95/492 C:\\Users\\naymm\\OneDrive\\Desktop\\Working\\2nd\\test1\\yolov5\\dataset\\train\\images\\1685293635174_jpg.rf.ab285f883a0d89026982c1f1eea12a87.jpg: 192x640 1 k, 28.1ms\n",
            "image 96/492 C:\\Users\\naymm\\OneDrive\\Desktop\\Working\\2nd\\test1\\yolov5\\dataset\\train\\images\\1685293635174_jpg.rf.e2b3219bce0adef2b453368ea7013085.jpg: 192x640 1 k, 18.5ms\n",
            "image 97/492 C:\\Users\\naymm\\OneDrive\\Desktop\\Working\\2nd\\test1\\yolov5\\dataset\\train\\images\\1685293635179_jpg.rf.11388d591c3b65399eb94f646fa8c131.jpg: 192x640 2 is, 1 j, 1 l, 16.5ms\n",
            "image 98/492 C:\\Users\\naymm\\OneDrive\\Desktop\\Working\\2nd\\test1\\yolov5\\dataset\\train\\images\\1685293635179_jpg.rf.3bccf0711551a5cffa1c118fc6f9b6fc.jpg: 192x640 2 is, 1 k, 1 l, 17.0ms\n",
            "image 99/492 C:\\Users\\naymm\\OneDrive\\Desktop\\Working\\2nd\\test1\\yolov5\\dataset\\train\\images\\1685293635179_jpg.rf.5f425d8c7b52677d354dd2e37c33a079.jpg: 192x640 2 is, 1 j, 1 k, 1 l, 17.1ms\n",
            "image 100/492 C:\\Users\\naymm\\OneDrive\\Desktop\\Working\\2nd\\test1\\yolov5\\dataset\\train\\images\\1685293635186_jpg.rf.550dd4008d3757ca844e6830ac4a9f39.jpg: 320x640 1 k, 27.6ms\n",
            "image 101/492 C:\\Users\\naymm\\OneDrive\\Desktop\\Working\\2nd\\test1\\yolov5\\dataset\\train\\images\\1685293635186_jpg.rf.dc6b4e8140fdea5f09f08018a850c7eb.jpg: 320x640 1 k, 1 l, 25.5ms\n",
            "image 102/492 C:\\Users\\naymm\\OneDrive\\Desktop\\Working\\2nd\\test1\\yolov5\\dataset\\train\\images\\1685293635186_jpg.rf.e8d4e105757da2f7e44955e9e8a1f828.jpg: 320x640 1 k, 24.6ms\n",
            "image 103/492 C:\\Users\\naymm\\OneDrive\\Desktop\\Working\\2nd\\test1\\yolov5\\dataset\\train\\images\\1685293635189_jpg.rf.45f4ef2e328c66cac29398dba8edb6fd.jpg: 192x640 2 is, 1 k, 1 l, 29.6ms\n",
            "image 104/492 C:\\Users\\naymm\\OneDrive\\Desktop\\Working\\2nd\\test1\\yolov5\\dataset\\train\\images\\1685293635189_jpg.rf.608acc6df754f0b08ce7960b81fce751.jpg: 192x640 2 is, 1 k, 1 l, 17.5ms\n",
            "image 105/492 C:\\Users\\naymm\\OneDrive\\Desktop\\Working\\2nd\\test1\\yolov5\\dataset\\train\\images\\1685293635189_jpg.rf.dc28eecdacf9d27b27c82951572c89f0.jpg: 192x640 2 is, 1 k, 1 l, 23.1ms\n",
            "image 106/492 C:\\Users\\naymm\\OneDrive\\Desktop\\Working\\2nd\\test1\\yolov5\\dataset\\train\\images\\1685293635192_jpg.rf.17ccedcaeb7434d62e2fb8da55d2b966.jpg: 576x640 2 ks, 1 r, 38.1ms\n",
            "image 107/492 C:\\Users\\naymm\\OneDrive\\Desktop\\Working\\2nd\\test1\\yolov5\\dataset\\train\\images\\1685293635192_jpg.rf.9b1046849f1ca2d5e0063c5516780333.jpg: 576x640 2 ks, 1 r, 37.6ms\n",
            "image 108/492 C:\\Users\\naymm\\OneDrive\\Desktop\\Working\\2nd\\test1\\yolov5\\dataset\\train\\images\\1685293635192_jpg.rf.e40f231891d52039da424fabaf3bd3fc.jpg: 576x640 2 ks, 37.6ms\n",
            "image 109/492 C:\\Users\\naymm\\OneDrive\\Desktop\\Working\\2nd\\test1\\yolov5\\dataset\\train\\images\\1685293635203_jpg.rf.0589c52738d002392a1b450ba75f9be4.jpg: 640x640 1 j, 1 k, 38.6ms\n",
            "image 110/492 C:\\Users\\naymm\\OneDrive\\Desktop\\Working\\2nd\\test1\\yolov5\\dataset\\train\\images\\1685293635203_jpg.rf.437b555d5753e86da000a1ec691ebfb7.jpg: 640x640 1 j, 1 k, 1 p, 37.6ms\n",
            "image 111/492 C:\\Users\\naymm\\OneDrive\\Desktop\\Working\\2nd\\test1\\yolov5\\dataset\\train\\images\\1685293635203_jpg.rf.717087cbb2bd904473c4ac25ce9fbaac.jpg: 640x640 1 j, 1 k, 37.6ms\n",
            "image 112/492 C:\\Users\\naymm\\OneDrive\\Desktop\\Working\\2nd\\test1\\yolov5\\dataset\\train\\images\\1685293635206_jpg.rf.3fe6a58f35b209815be964a43cd7f932.jpg: 640x640 2 js, 1 k, 1 p, 37.6ms\n",
            "image 113/492 C:\\Users\\naymm\\OneDrive\\Desktop\\Working\\2nd\\test1\\yolov5\\dataset\\train\\images\\1685293635206_jpg.rf.d342df10834cd01b19b2966f8138c7e0.jpg: 640x640 1 j, 1 k, 2 ps, 37.1ms\n",
            "image 114/492 C:\\Users\\naymm\\OneDrive\\Desktop\\Working\\2nd\\test1\\yolov5\\dataset\\train\\images\\1685293635206_jpg.rf.d83a32afe844bbcbab65bcad54d22769.jpg: 640x640 1 j, 1 k, 37.6ms\n",
            "image 115/492 C:\\Users\\naymm\\OneDrive\\Desktop\\Working\\2nd\\test1\\yolov5\\dataset\\train\\images\\1685293635210_jpg.rf.382c7c8ef47c184837aa7085475a3927.jpg: 640x640 1 j, 1 k, 37.1ms\n",
            "image 116/492 C:\\Users\\naymm\\OneDrive\\Desktop\\Working\\2nd\\test1\\yolov5\\dataset\\train\\images\\1685293635210_jpg.rf.3d852eb1df6bc11aa49e043ad801f811.jpg: 640x640 1 j, 1 k, 1 p, 37.6ms\n",
            "image 117/492 C:\\Users\\naymm\\OneDrive\\Desktop\\Working\\2nd\\test1\\yolov5\\dataset\\train\\images\\1685293635210_jpg.rf.a26e9b287bfccc22dc3ab11c768a7e97.jpg: 640x640 1 j, 1 k, 37.0ms\n",
            "image 118/492 C:\\Users\\naymm\\OneDrive\\Desktop\\Working\\2nd\\test1\\yolov5\\dataset\\train\\images\\1685293635212_jpg.rf.2f21c579102019ee10e256cf24e75d7a.jpg: 640x640 3 ks, 37.1ms\n",
            "image 119/492 C:\\Users\\naymm\\OneDrive\\Desktop\\Working\\2nd\\test1\\yolov5\\dataset\\train\\images\\1685293635212_jpg.rf.6d16f3a096abb13bc08315a6594faf73.jpg: 640x640 3 ks, 39.1ms\n",
            "image 120/492 C:\\Users\\naymm\\OneDrive\\Desktop\\Working\\2nd\\test1\\yolov5\\dataset\\train\\images\\1685293635212_jpg.rf.aa9c4369a835b3a38994ff36d2c75259.jpg: 640x640 3 ks, 37.6ms\n",
            "image 121/492 C:\\Users\\naymm\\OneDrive\\Desktop\\Working\\2nd\\test1\\yolov5\\dataset\\train\\images\\1685293635220_jpg.rf.471d603622bd76de6a5d2a7a99dfe019.jpg: 640x640 2 js, 1 k, 1 p, 38.6ms\n",
            "image 122/492 C:\\Users\\naymm\\OneDrive\\Desktop\\Working\\2nd\\test1\\yolov5\\dataset\\train\\images\\1685293635220_jpg.rf.48865c538fa23607fe2831e05d3af42e.jpg: 640x640 2 js, 1 k, 1 p, 37.6ms\n",
            "image 123/492 C:\\Users\\naymm\\OneDrive\\Desktop\\Working\\2nd\\test1\\yolov5\\dataset\\train\\images\\1685293635220_jpg.rf.c21f00cb802de647864580ac3ec3ff56.jpg: 640x640 2 js, 1 k, 1 p, 37.6ms\n",
            "image 124/492 C:\\Users\\naymm\\OneDrive\\Desktop\\Working\\2nd\\test1\\yolov5\\dataset\\train\\images\\1685294497630_jpg.rf.535b8f8fe5b6a5808ac4dd90d78bf8c3.jpg: 640x640 1 n, 1 o, 2 ps, 37.6ms\n",
            "image 125/492 C:\\Users\\naymm\\OneDrive\\Desktop\\Working\\2nd\\test1\\yolov5\\dataset\\train\\images\\1685294497630_jpg.rf.6fd18d8e57f41656ab881369b6e57c5f.jpg: 640x640 1 n, 1 o, 2 ps, 37.1ms\n",
            "image 126/492 C:\\Users\\naymm\\OneDrive\\Desktop\\Working\\2nd\\test1\\yolov5\\dataset\\train\\images\\1685294497630_jpg.rf.7fc4df10d1b2d320b49559ff6b96b503.jpg: 640x640 1 n, 1 o, 2 ps, 37.5ms\n",
            "image 127/492 C:\\Users\\naymm\\OneDrive\\Desktop\\Working\\2nd\\test1\\yolov5\\dataset\\train\\images\\1685294497635_jpg.rf.42db5d6447fc8329b9e540b0b2eb2aac.jpg: 640x640 1 n, 1 o, 3 ps, 1 w, 38.6ms\n",
            "image 128/492 C:\\Users\\naymm\\OneDrive\\Desktop\\Working\\2nd\\test1\\yolov5\\dataset\\train\\images\\1685294497635_jpg.rf.44b1e562621bf3b1ca3096e3b0cda03a.jpg: 640x640 1 n, 3 ps, 1 w, 38.6ms\n",
            "image 129/492 C:\\Users\\naymm\\OneDrive\\Desktop\\Working\\2nd\\test1\\yolov5\\dataset\\train\\images\\1685294497635_jpg.rf.cb45c6cf1f942092d5ba2f726d0a775e.jpg: 640x640 1 n, 3 ps, 1 w, 38.1ms\n",
            "image 130/492 C:\\Users\\naymm\\OneDrive\\Desktop\\Working\\2nd\\test1\\yolov5\\dataset\\train\\images\\1685294497649_jpg.rf.992e2d27c92255d8e251f23055cc6ef0.jpg: 192x640 1 n, 1 p, 27.3ms\n",
            "image 131/492 C:\\Users\\naymm\\OneDrive\\Desktop\\Working\\2nd\\test1\\yolov5\\dataset\\train\\images\\1685294497649_jpg.rf.e23f90b64dc0b459ca7f7fc9264f475b.jpg: 192x640 1 n, 17.0ms\n",
            "image 132/492 C:\\Users\\naymm\\OneDrive\\Desktop\\Working\\2nd\\test1\\yolov5\\dataset\\train\\images\\1685294497649_jpg.rf.f9292f3b8950c1dc4ba6861cc30020cf.jpg: 192x640 1 n, 16.5ms\n",
            "image 133/492 C:\\Users\\naymm\\OneDrive\\Desktop\\Working\\2nd\\test1\\yolov5\\dataset\\train\\images\\1685294497659_jpg.rf.d4a32049c3f8932c14403d1420ebdde0.jpg: 192x640 1 n, 17.5ms\n",
            "image 134/492 C:\\Users\\naymm\\OneDrive\\Desktop\\Working\\2nd\\test1\\yolov5\\dataset\\train\\images\\1685294497659_jpg.rf.e6d521763c6563d8354590228b236528.jpg: 192x640 1 n, 1 p, 16.5ms\n",
            "image 135/492 C:\\Users\\naymm\\OneDrive\\Desktop\\Working\\2nd\\test1\\yolov5\\dataset\\train\\images\\1685294497659_jpg.rf.f1073a534c10e3b68fe7ebc76e090408.jpg: 192x640 1 n, 1 p, 17.1ms\n",
            "image 136/492 C:\\Users\\naymm\\OneDrive\\Desktop\\Working\\2nd\\test1\\yolov5\\dataset\\train\\images\\1685294497667_jpg.rf.2330e12cc97e784185ef9f1b0062a494.jpg: 256x640 1 n, 1 p, 20.0ms\n",
            "image 137/492 C:\\Users\\naymm\\OneDrive\\Desktop\\Working\\2nd\\test1\\yolov5\\dataset\\train\\images\\1685294497667_jpg.rf.a9838af08082a5a1686f6d0745975806.jpg: 256x640 1 n, 1 p, 19.0ms\n",
            "image 138/492 C:\\Users\\naymm\\OneDrive\\Desktop\\Working\\2nd\\test1\\yolov5\\dataset\\train\\images\\1685294497667_jpg.rf.f93c59fe92ec7ddb8e2422655603672f.jpg: 256x640 1 n, 1 p, 19.5ms\n",
            "image 139/492 C:\\Users\\naymm\\OneDrive\\Desktop\\Working\\2nd\\test1\\yolov5\\dataset\\train\\images\\1685294497671_jpg.rf.62ec281ef14b1e9061db9fcef7a19c55.jpg: 640x640 1 n, 3 ps, 1 r, 38.1ms\n",
            "image 140/492 C:\\Users\\naymm\\OneDrive\\Desktop\\Working\\2nd\\test1\\yolov5\\dataset\\train\\images\\1685294497671_jpg.rf.8f449fd8d7508c3d04822a0331affc64.jpg: 640x640 3 ps, 1 r, 37.6ms\n",
            "image 141/492 C:\\Users\\naymm\\OneDrive\\Desktop\\Working\\2nd\\test1\\yolov5\\dataset\\train\\images\\1685294497671_jpg.rf.d8ab12afcee83260e6574c1c0a53eac4.jpg: 640x640 3 ps, 1 r, 38.1ms\n",
            "image 142/492 C:\\Users\\naymm\\OneDrive\\Desktop\\Working\\2nd\\test1\\yolov5\\dataset\\train\\images\\1685294497674_jpg.rf.2a41b10a030bc6a58453ef20a2f05298.jpg: 640x640 1 Tresemme_HD, 2 ns, 1 o, 2 ps, 37.6ms\n",
            "image 143/492 C:\\Users\\naymm\\OneDrive\\Desktop\\Working\\2nd\\test1\\yolov5\\dataset\\train\\images\\1685294497674_jpg.rf.3d49cbc7c2b8bab46a11be9b5abdbad5.jpg: 640x640 1 Tresemme_HD, 2 ns, 1 o, 2 ps, 37.6ms\n",
            "image 144/492 C:\\Users\\naymm\\OneDrive\\Desktop\\Working\\2nd\\test1\\yolov5\\dataset\\train\\images\\1685294497674_jpg.rf.fac57ede998b510992939e4d6ab0c571.jpg: 640x640 1 Tresemme_HD, 2 ns, 1 o, 1 p, 37.6ms\n",
            "image 145/492 C:\\Users\\naymm\\OneDrive\\Desktop\\Working\\2nd\\test1\\yolov5\\dataset\\train\\images\\1685294497678_jpg.rf.2fc7196482e1eebf64a9380012e4beaa.jpg: 640x640 1 n, 1 o, 4 ps, 1 w, 38.1ms\n",
            "image 146/492 C:\\Users\\naymm\\OneDrive\\Desktop\\Working\\2nd\\test1\\yolov5\\dataset\\train\\images\\1685294497678_jpg.rf.4f9f0f47d9ebf3149b1c089310c1a7fe.jpg: 640x640 1 n, 1 o, 4 ps, 38.1ms\n",
            "image 147/492 C:\\Users\\naymm\\OneDrive\\Desktop\\Working\\2nd\\test1\\yolov5\\dataset\\train\\images\\1685294497678_jpg.rf.66035817296063a9a5bb50a6e8de41e9.jpg: 640x640 1 n, 1 o, 4 ps, 1 w, 38.1ms\n",
            "image 148/492 C:\\Users\\naymm\\OneDrive\\Desktop\\Working\\2nd\\test1\\yolov5\\dataset\\train\\images\\1685294497682_jpg.rf.13bc1bce6965512013b34577df99b3a5.jpg: 640x640 2 ns, 1 o, 2 ps, 38.0ms\n",
            "image 149/492 C:\\Users\\naymm\\OneDrive\\Desktop\\Working\\2nd\\test1\\yolov5\\dataset\\train\\images\\1685294497682_jpg.rf.a98c18ce77b81abd72e0d251d92444cc.jpg: 640x640 1 Tresemme_HD, 2 ns, 1 o, 1 p, 37.7ms\n",
            "image 150/492 C:\\Users\\naymm\\OneDrive\\Desktop\\Working\\2nd\\test1\\yolov5\\dataset\\train\\images\\1685294497682_jpg.rf.d299c9f0288b18680abe16322932a55f.jpg: 640x640 1 n, 1 o, 2 ps, 38.4ms\n",
            "image 151/492 C:\\Users\\naymm\\OneDrive\\Desktop\\Working\\2nd\\test1\\yolov5\\dataset\\train\\images\\1685294497686_jpg.rf.18f7d147ff1ef5eed852540eabef4a11.jpg: 640x640 2 ps, 1 r, 37.6ms\n",
            "image 152/492 C:\\Users\\naymm\\OneDrive\\Desktop\\Working\\2nd\\test1\\yolov5\\dataset\\train\\images\\1685294497686_jpg.rf.5cdff44ff0ae14cb0bce12b67513ce8e.jpg: 640x640 2 ps, 37.6ms\n",
            "image 153/492 C:\\Users\\naymm\\OneDrive\\Desktop\\Working\\2nd\\test1\\yolov5\\dataset\\train\\images\\1685294497686_jpg.rf.dda6b1387fe714bd8d6bdd173d90684e.jpg: 640x640 2 ps, 1 r, 38.2ms\n",
            "image 154/492 C:\\Users\\naymm\\OneDrive\\Desktop\\Working\\2nd\\test1\\yolov5\\dataset\\train\\images\\1685294497690_jpg.rf.0466e5b3aaf0ab0b1823245a360fec70.jpg: 640x640 1 f, 1 n, 2 ps, 38.2ms\n",
            "image 155/492 C:\\Users\\naymm\\OneDrive\\Desktop\\Working\\2nd\\test1\\yolov5\\dataset\\train\\images\\1685294497690_jpg.rf.39647558d486314474338e7086c43f95.jpg: 640x640 1 n, 2 ps, 37.5ms\n",
            "image 156/492 C:\\Users\\naymm\\OneDrive\\Desktop\\Working\\2nd\\test1\\yolov5\\dataset\\train\\images\\1685294497690_jpg.rf.cb3b216f98114e015d68a13a424f7861.jpg: 640x640 1 n, 2 ps, 38.1ms\n",
            "image 157/492 C:\\Users\\naymm\\OneDrive\\Desktop\\Working\\2nd\\test1\\yolov5\\dataset\\train\\images\\1685294879984_jpg.rf.03304b4c27d92c603971cc7765f0afb9.jpg: 320x640 1 Tresemme_Green, 1 n, 2 ps, 27.1ms\n",
            "image 158/492 C:\\Users\\naymm\\OneDrive\\Desktop\\Working\\2nd\\test1\\yolov5\\dataset\\train\\images\\1685294879984_jpg.rf.80b20574a0e8aaeccf720714ea5eb5ca.jpg: 320x640 1 p, 1 r, 23.5ms\n",
            "image 159/492 C:\\Users\\naymm\\OneDrive\\Desktop\\Working\\2nd\\test1\\yolov5\\dataset\\train\\images\\1685294879984_jpg.rf.8eb950b6041acc11f08211fc589fb660.jpg: 320x640 1 n, 2 ps, 23.5ms\n",
            "image 160/492 C:\\Users\\naymm\\OneDrive\\Desktop\\Working\\2nd\\test1\\yolov5\\dataset\\train\\images\\1685294879986_jpg.rf.02a615df624e505132fd83def49a149d.jpg: 320x640 2 ps, 1 r, 23.5ms\n",
            "image 161/492 C:\\Users\\naymm\\OneDrive\\Desktop\\Working\\2nd\\test1\\yolov5\\dataset\\train\\images\\1685294879986_jpg.rf.52689b9cb550a08a241ec4d11febff1e.jpg: 320x640 1 Tresemme_Green, 2 ps, 1 r, 25.1ms\n",
            "image 162/492 C:\\Users\\naymm\\OneDrive\\Desktop\\Working\\2nd\\test1\\yolov5\\dataset\\train\\images\\1685294879986_jpg.rf.c0a461780a6dfd518a269bdc1dcb89d6.jpg: 320x640 2 ps, 1 r, 25.0ms\n",
            "image 163/492 C:\\Users\\naymm\\OneDrive\\Desktop\\Working\\2nd\\test1\\yolov5\\dataset\\train\\images\\1685294879992_jpg.rf.279a6006b738b6e9fcbaf611e02bc78f.jpg: 448x640 1 k, 106.2ms\n",
            "image 164/492 C:\\Users\\naymm\\OneDrive\\Desktop\\Working\\2nd\\test1\\yolov5\\dataset\\train\\images\\1685294879992_jpg.rf.c8de05bc7efce66321f58d57b983dfa6.jpg: 448x640 1 k, 29.5ms\n",
            "image 165/492 C:\\Users\\naymm\\OneDrive\\Desktop\\Working\\2nd\\test1\\yolov5\\dataset\\train\\images\\1685294879992_jpg.rf.d2346cb96cdcd3caf49236f2b5c1ff4b.jpg: 448x640 1 k, 30.1ms\n",
            "image 166/492 C:\\Users\\naymm\\OneDrive\\Desktop\\Working\\2nd\\test1\\yolov5\\dataset\\train\\images\\1685294879996_jpg.rf.5448a199db5bf6fc688ea09a699f8416.jpg: 320x640 1 Tresemme_Green, 1 f, 1 n, 26.0ms\n",
            "image 167/492 C:\\Users\\naymm\\OneDrive\\Desktop\\Working\\2nd\\test1\\yolov5\\dataset\\train\\images\\1685294879996_jpg.rf.9383ff739721fc1420ade8ffe56ad073.jpg: 320x640 1 Tresemme_Green, 1 p, 22.0ms\n",
            "image 168/492 C:\\Users\\naymm\\OneDrive\\Desktop\\Working\\2nd\\test1\\yolov5\\dataset\\train\\images\\1685294879996_jpg.rf.d8acb2860f41713a0a4a87545ee530ec.jpg: 320x640 1 Tresemme_Green, 1 f, 24.2ms\n",
            "image 169/492 C:\\Users\\naymm\\OneDrive\\Desktop\\Working\\2nd\\test1\\yolov5\\dataset\\train\\images\\1685294879998_jpg.rf.8f3541f4a5d12e0b70b0dd8f9869b17e.jpg: 320x640 1 Tresemme_Green, 1 f, 1 p, 23.1ms\n",
            "image 170/492 C:\\Users\\naymm\\OneDrive\\Desktop\\Working\\2nd\\test1\\yolov5\\dataset\\train\\images\\1685294879998_jpg.rf.cbcdd7d0e7906b6521f316e9b4534118.jpg: 320x640 1 Tresemme_Green, 1 f, 1 n, 22.6ms\n",
            "image 171/492 C:\\Users\\naymm\\OneDrive\\Desktop\\Working\\2nd\\test1\\yolov5\\dataset\\train\\images\\1685294879998_jpg.rf.cf9e3136e692fda4168886a620dc79c2.jpg: 320x640 1 Tresemme_Green, 1 f, 1 k, 1 n, 24.0ms\n",
            "image 172/492 C:\\Users\\naymm\\OneDrive\\Desktop\\Working\\2nd\\test1\\yolov5\\dataset\\train\\images\\1685294880002_jpg.rf.4dae792274d3dacaf6c4e501fe665eca.jpg: 384x640 3 ns, 27.6ms\n",
            "image 173/492 C:\\Users\\naymm\\OneDrive\\Desktop\\Working\\2nd\\test1\\yolov5\\dataset\\train\\images\\1685294880002_jpg.rf.577f78820ea10a55311f23ea3d221a38.jpg: 384x640 3 ns, 27.0ms\n",
            "image 174/492 C:\\Users\\naymm\\OneDrive\\Desktop\\Working\\2nd\\test1\\yolov5\\dataset\\train\\images\\1685294880002_jpg.rf.b3d0bb12462d5ccb67353392c29f81a4.jpg: 384x640 3 ns, 27.0ms\n",
            "image 175/492 C:\\Users\\naymm\\OneDrive\\Desktop\\Working\\2nd\\test1\\yolov5\\dataset\\train\\images\\1685294880005_jpg.rf.47063c5606a7530ec20b58c8e9ed2813.jpg: 384x640 3 ns, 1 p, 27.5ms\n",
            "image 176/492 C:\\Users\\naymm\\OneDrive\\Desktop\\Working\\2nd\\test1\\yolov5\\dataset\\train\\images\\1685294880005_jpg.rf.7a5119006afd3a4bb31282149665a478.jpg: 384x640 3 ns, 2 ps, 27.0ms\n",
            "image 177/492 C:\\Users\\naymm\\OneDrive\\Desktop\\Working\\2nd\\test1\\yolov5\\dataset\\train\\images\\1685294880005_jpg.rf.a0b6ad9bb568b6f27c60bcde301d5e9c.jpg: 384x640 3 ns, 1 p, 26.6ms\n",
            "image 178/492 C:\\Users\\naymm\\OneDrive\\Desktop\\Working\\2nd\\test1\\yolov5\\dataset\\train\\images\\1685294880025_jpg.rf.98a792bbd189278f865ad0b0d96f7692.jpg: 640x576 1 k, 1 m, 1 n, 1 o, 1 r, 101.2ms\n",
            "image 179/492 C:\\Users\\naymm\\OneDrive\\Desktop\\Working\\2nd\\test1\\yolov5\\dataset\\train\\images\\1685294880025_jpg.rf.ae1bb0d9bfb9914e04a82edf66ebc9f3.jpg: 640x576 1 k, 1 m, 1 n, 1 r, 37.9ms\n",
            "image 180/492 C:\\Users\\naymm\\OneDrive\\Desktop\\Working\\2nd\\test1\\yolov5\\dataset\\train\\images\\1685294880025_jpg.rf.d7b356e0bdf59bf73dfd9d6055c67239.jpg: 640x576 1 k, 1 m, 1 n, 1 r, 38.4ms\n",
            "image 181/492 C:\\Users\\naymm\\OneDrive\\Desktop\\Working\\2nd\\test1\\yolov5\\dataset\\train\\images\\1685294880028_jpg.rf.8cb03eaa78098f6eee09b51ebd319238.jpg: 640x640 1 Tresemme_HD, 3 ns, 1 p, 37.6ms\n",
            "image 182/492 C:\\Users\\naymm\\OneDrive\\Desktop\\Working\\2nd\\test1\\yolov5\\dataset\\train\\images\\1685294880028_jpg.rf.9667be8a838deb3629983fb12655e016.jpg: 640x640 1 Tresemme_HD, 3 ns, 38.1ms\n",
            "image 183/492 C:\\Users\\naymm\\OneDrive\\Desktop\\Working\\2nd\\test1\\yolov5\\dataset\\train\\images\\1685294880028_jpg.rf.c363474758c86b37d8015a8cb25bee8c.jpg: 640x640 1 Tresemme_Green, 2 Tresemme_HDs, 3 ns, 37.6ms\n",
            "image 184/492 C:\\Users\\naymm\\OneDrive\\Desktop\\Working\\2nd\\test1\\yolov5\\dataset\\train\\images\\1685294880033_jpg.rf.5ef2410f4524491c515c988a417d93a8.jpg: 640x640 1 p, 37.6ms\n",
            "image 185/492 C:\\Users\\naymm\\OneDrive\\Desktop\\Working\\2nd\\test1\\yolov5\\dataset\\train\\images\\1685294880033_jpg.rf.9ebcb38274af2e6dcfe665b60276fbdf.jpg: 640x640 1 n, 2 ps, 38.1ms\n",
            "image 186/492 C:\\Users\\naymm\\OneDrive\\Desktop\\Working\\2nd\\test1\\yolov5\\dataset\\train\\images\\1685294880033_jpg.rf.da6791c7a659ceabfd48556e6e449df6.jpg: 640x640 1 p, 38.1ms\n",
            "image 187/492 C:\\Users\\naymm\\OneDrive\\Desktop\\Working\\2nd\\test1\\yolov5\\dataset\\train\\images\\1685294880036_jpg.rf.2efaef7bbd60d793f1be705f8c927754.jpg: 640x640 1 k, 37.5ms\n",
            "image 188/492 C:\\Users\\naymm\\OneDrive\\Desktop\\Working\\2nd\\test1\\yolov5\\dataset\\train\\images\\1685294880036_jpg.rf.51c111c85c3b8527f2ee63a5ccb46068.jpg: 640x640 1 k, 1 p, 38.1ms\n",
            "image 189/492 C:\\Users\\naymm\\OneDrive\\Desktop\\Working\\2nd\\test1\\yolov5\\dataset\\train\\images\\1685294880036_jpg.rf.aa67574674f28a4a56a58f38039af49c.jpg: 640x640 1 k, 38.0ms\n",
            "image 190/492 C:\\Users\\naymm\\OneDrive\\Desktop\\Working\\2nd\\test1\\yolov5\\dataset\\train\\images\\1685295073478_jpg.rf.5e339a2c176994176deabdf5e955ac8e.jpg: 320x640 1 r, 24.1ms\n",
            "image 191/492 C:\\Users\\naymm\\OneDrive\\Desktop\\Working\\2nd\\test1\\yolov5\\dataset\\train\\images\\1685295073478_jpg.rf.69924ae5e0147070bd5ec7f3483ceb11.jpg: 320x640 1 r, 23.0ms\n",
            "image 192/492 C:\\Users\\naymm\\OneDrive\\Desktop\\Working\\2nd\\test1\\yolov5\\dataset\\train\\images\\1685295073478_jpg.rf.8b23606faba72b6ecc5a711a3dea1dbd.jpg: 320x640 1 r, 23.0ms\n",
            "image 193/492 C:\\Users\\naymm\\OneDrive\\Desktop\\Working\\2nd\\test1\\yolov5\\dataset\\train\\images\\1685295073481_jpg.rf.337344916192977993048d491a7d5976.jpg: 448x640 2 es, 1 k, 1 p, 30.0ms\n",
            "image 194/492 C:\\Users\\naymm\\OneDrive\\Desktop\\Working\\2nd\\test1\\yolov5\\dataset\\train\\images\\1685295073481_jpg.rf.809fc751a8df0b0d4bbeaddacc31ea7e.jpg: 448x640 1 e, 1 k, 1 p, 1 r, 30.0ms\n",
            "image 195/492 C:\\Users\\naymm\\OneDrive\\Desktop\\Working\\2nd\\test1\\yolov5\\dataset\\train\\images\\1685295073481_jpg.rf.dde7b562b06469c4c6268dc0e9d46f36.jpg: 448x640 1 k, 1 p, 30.1ms\n",
            "image 196/492 C:\\Users\\naymm\\OneDrive\\Desktop\\Working\\2nd\\test1\\yolov5\\dataset\\train\\images\\1685295073488_jpg.rf.a8f31b505624bf6c3c63cea0d7d305a7.jpg: 320x640 2 ps, 1 r, 23.5ms\n",
            "image 197/492 C:\\Users\\naymm\\OneDrive\\Desktop\\Working\\2nd\\test1\\yolov5\\dataset\\train\\images\\1685295073488_jpg.rf.c221b0eef8880539515c657ffc48f74c.jpg: 320x640 1 p, 1 r, 24.5ms\n",
            "image 198/492 C:\\Users\\naymm\\OneDrive\\Desktop\\Working\\2nd\\test1\\yolov5\\dataset\\train\\images\\1685295073488_jpg.rf.d9f5b3f85f97fc32f19f7ece81b31bbf.jpg: 320x640 2 ps, 1 r, 23.6ms\n",
            "image 199/492 C:\\Users\\naymm\\OneDrive\\Desktop\\Working\\2nd\\test1\\yolov5\\dataset\\train\\images\\1685295073492_jpg.rf.1b16e8cefe59e67decced60060e37675.jpg: 640x640 1 n, 1 o, 2 ps, 37.9ms\n",
            "image 200/492 C:\\Users\\naymm\\OneDrive\\Desktop\\Working\\2nd\\test1\\yolov5\\dataset\\train\\images\\1685295073492_jpg.rf.58d2cbaac8b8405d7630b2dc95fbe43c.jpg: 640x640 1 n, 1 o, 2 ps, 37.6ms\n",
            "image 201/492 C:\\Users\\naymm\\OneDrive\\Desktop\\Working\\2nd\\test1\\yolov5\\dataset\\train\\images\\1685295073492_jpg.rf.9166773140c40da9d30601e649031d4f.jpg: 640x640 1 n, 2 ps, 38.3ms\n",
            "image 202/492 C:\\Users\\naymm\\OneDrive\\Desktop\\Working\\2nd\\test1\\yolov5\\dataset\\train\\images\\1685295073495_jpg.rf.3ded54a22802e55ec4c1a711b25f14bb.jpg: 640x640 1 k, 1 n, 2 ps, 37.6ms\n",
            "image 203/492 C:\\Users\\naymm\\OneDrive\\Desktop\\Working\\2nd\\test1\\yolov5\\dataset\\train\\images\\1685295073495_jpg.rf.a338d80f6af93986ba88d87ebe2012c0.jpg: 640x640 1 k, 1 n, 2 ps, 1 r, 38.8ms\n",
            "image 204/492 C:\\Users\\naymm\\OneDrive\\Desktop\\Working\\2nd\\test1\\yolov5\\dataset\\train\\images\\1685295073495_jpg.rf.bf1eb39904f52ca47e4a99f559dc399c.jpg: 640x640 1 k, 1 n, 2 ps, 1 r, 37.8ms\n",
            "image 205/492 C:\\Users\\naymm\\OneDrive\\Desktop\\Working\\2nd\\test1\\yolov5\\dataset\\train\\images\\1685295073503_jpg.rf.8f721ef340c748553cc9e2ab3bd430dc.jpg: 640x640 1 k, 38.1ms\n",
            "image 206/492 C:\\Users\\naymm\\OneDrive\\Desktop\\Working\\2nd\\test1\\yolov5\\dataset\\train\\images\\1685295073503_jpg.rf.a96e7d9e93d6e2754039bf45e0aba223.jpg: 640x640 1 e, 1 k, 1 p, 1 r, 38.0ms\n",
            "image 207/492 C:\\Users\\naymm\\OneDrive\\Desktop\\Working\\2nd\\test1\\yolov5\\dataset\\train\\images\\1685295073503_jpg.rf.e6e1db5ed7fa4737d606ca60d1ea4c18.jpg: 640x640 2 ks, 1 r, 37.6ms\n",
            "image 208/492 C:\\Users\\naymm\\OneDrive\\Desktop\\Working\\2nd\\test1\\yolov5\\dataset\\train\\images\\1685295073508_jpg.rf.417b8d3ae0233b6ba73b25de98ef3ade.jpg: 640x640 1 p, 38.1ms\n",
            "image 209/492 C:\\Users\\naymm\\OneDrive\\Desktop\\Working\\2nd\\test1\\yolov5\\dataset\\train\\images\\1685295073508_jpg.rf.9c2004e69aa15ac1bc74a8c9ab912f85.jpg: 640x640 2 ps, 1 r, 38.6ms\n",
            "image 210/492 C:\\Users\\naymm\\OneDrive\\Desktop\\Working\\2nd\\test1\\yolov5\\dataset\\train\\images\\1685295073508_jpg.rf.c6224ef15b563267e3be4dc94d6ba280.jpg: 640x640 2 ps, 1 r, 38.1ms\n",
            "image 211/492 C:\\Users\\naymm\\OneDrive\\Desktop\\Working\\2nd\\test1\\yolov5\\dataset\\train\\images\\1685295247204_jpg.rf.57d1356451b0a35e6c6923d38cb43d56.jpg: 384x640 2 ps, 26.5ms\n",
            "image 212/492 C:\\Users\\naymm\\OneDrive\\Desktop\\Working\\2nd\\test1\\yolov5\\dataset\\train\\images\\1685295247204_jpg.rf.8dbabf711a187a5b2650b3b1ec09c742.jpg: 384x640 1 p, 26.5ms\n",
            "image 213/492 C:\\Users\\naymm\\OneDrive\\Desktop\\Working\\2nd\\test1\\yolov5\\dataset\\train\\images\\1685295247204_jpg.rf.aa25bba434d1e58de599253c26274b82.jpg: 384x640 1 p, 26.5ms\n",
            "image 214/492 C:\\Users\\naymm\\OneDrive\\Desktop\\Working\\2nd\\test1\\yolov5\\dataset\\train\\images\\1685295247211_jpg.rf.0f15c18fb43c66c8d434d88e171bcce5.jpg: 256x640 1 p, 19.0ms\n",
            "image 215/492 C:\\Users\\naymm\\OneDrive\\Desktop\\Working\\2nd\\test1\\yolov5\\dataset\\train\\images\\1685295247211_jpg.rf.79bb8151d9022116cb20f84e77313c58.jpg: 256x640 1 p, 20.1ms\n",
            "image 216/492 C:\\Users\\naymm\\OneDrive\\Desktop\\Working\\2nd\\test1\\yolov5\\dataset\\train\\images\\1685295247211_jpg.rf.c0c7772388f56d14a4f41961523e9b2e.jpg: 256x640 1 f, 2 ps, 20.0ms\n",
            "image 217/492 C:\\Users\\naymm\\OneDrive\\Desktop\\Working\\2nd\\test1\\yolov5\\dataset\\train\\images\\1685295247214_jpg.rf.2381b6cdf48115725cfee716b30a64be.jpg: 512x640 2 fs, 1 g, 1 p, 98.2ms\n",
            "image 218/492 C:\\Users\\naymm\\OneDrive\\Desktop\\Working\\2nd\\test1\\yolov5\\dataset\\train\\images\\1685295247214_jpg.rf.4fdf4e3952680ab8ea9663c939094f19.jpg: 512x640 4 fs, 1 g, 1 p, 30.5ms\n",
            "image 219/492 C:\\Users\\naymm\\OneDrive\\Desktop\\Working\\2nd\\test1\\yolov5\\dataset\\train\\images\\1685295247214_jpg.rf.93ee2e28065709ef9ab1b1868aeda71a.jpg: 512x640 1 f, 1 g, 1 p, 31.5ms\n",
            "image 220/492 C:\\Users\\naymm\\OneDrive\\Desktop\\Working\\2nd\\test1\\yolov5\\dataset\\train\\images\\1685295247226_jpg.rf.956bb4de045ea80b3a371b0fdfb9d134.jpg: 192x640 1 p, 19.6ms\n",
            "image 221/492 C:\\Users\\naymm\\OneDrive\\Desktop\\Working\\2nd\\test1\\yolov5\\dataset\\train\\images\\1685295247226_jpg.rf.b45d8c669eb49d8277a7341f29815cf5.jpg: 192x640 1 p, 18.0ms\n",
            "image 222/492 C:\\Users\\naymm\\OneDrive\\Desktop\\Working\\2nd\\test1\\yolov5\\dataset\\train\\images\\1685295247226_jpg.rf.f27257faf4b71777994a747ddfb8e24b.jpg: 192x640 1 p, 17.5ms\n",
            "image 223/492 C:\\Users\\naymm\\OneDrive\\Desktop\\Working\\2nd\\test1\\yolov5\\dataset\\train\\images\\1685295247232_jpg.rf.347043cfecf56c7d7405cc34a1643d18.jpg: 640x640 3 ps, 1 r, 37.6ms\n",
            "image 224/492 C:\\Users\\naymm\\OneDrive\\Desktop\\Working\\2nd\\test1\\yolov5\\dataset\\train\\images\\1685295247232_jpg.rf.fbc77f4157f78b62ef8d1c3215f7e085.jpg: 640x640 1 p, 37.5ms\n",
            "image 225/492 C:\\Users\\naymm\\OneDrive\\Desktop\\Working\\2nd\\test1\\yolov5\\dataset\\train\\images\\1685295247232_jpg.rf.fc63167ddb84c7719cf87d1bfca7bc58.jpg: 640x640 3 ps, 37.6ms\n",
            "image 226/492 C:\\Users\\naymm\\OneDrive\\Desktop\\Working\\2nd\\test1\\yolov5\\dataset\\train\\images\\1685295247235_jpg.rf.01a888a4b24c2cfd7a5f94435c11c8ee.jpg: 640x320 1 p, 1 r, 97.7ms\n",
            "image 227/492 C:\\Users\\naymm\\OneDrive\\Desktop\\Working\\2nd\\test1\\yolov5\\dataset\\train\\images\\1685295247235_jpg.rf.38c63481f42a6346b40cc63831f0e04f.jpg: 640x320 1 p, 22.5ms\n",
            "image 228/492 C:\\Users\\naymm\\OneDrive\\Desktop\\Working\\2nd\\test1\\yolov5\\dataset\\train\\images\\1685295247235_jpg.rf.c29d4c0979dd091229d31497c981d337.jpg: 640x320 1 p, 1 r, 23.2ms\n",
            "image 229/492 C:\\Users\\naymm\\OneDrive\\Desktop\\Working\\2nd\\test1\\yolov5\\dataset\\train\\images\\1685295569399_jpg.rf.12dc2ca60ddb2aa9768148990c4570cb.jpg: 256x640 (no detections), 20.1ms\n",
            "image 230/492 C:\\Users\\naymm\\OneDrive\\Desktop\\Working\\2nd\\test1\\yolov5\\dataset\\train\\images\\1685295569399_jpg.rf.339d193b19ab52ce98afa1a9d3c7f39f.jpg: 256x640 (no detections), 19.1ms\n",
            "image 231/492 C:\\Users\\naymm\\OneDrive\\Desktop\\Working\\2nd\\test1\\yolov5\\dataset\\train\\images\\1685295569399_jpg.rf.5611f888d4de502fe9c4ce61b078c11e.jpg: 256x640 1 f, 19.0ms\n",
            "image 232/492 C:\\Users\\naymm\\OneDrive\\Desktop\\Working\\2nd\\test1\\yolov5\\dataset\\train\\images\\1685295569402_jpg.rf.7e641162cbf3d8d4da058c5892bbcc47.jpg: 320x640 3 ps, 2 rs, 24.5ms\n",
            "image 233/492 C:\\Users\\naymm\\OneDrive\\Desktop\\Working\\2nd\\test1\\yolov5\\dataset\\train\\images\\1685295569402_jpg.rf.d71d6e24e665ad9f49b37f9c39cd04d3.jpg: 320x640 2 ps, 2 rs, 23.0ms\n",
            "image 234/492 C:\\Users\\naymm\\OneDrive\\Desktop\\Working\\2nd\\test1\\yolov5\\dataset\\train\\images\\1685295569402_jpg.rf.f719c872d2b571db0c85094049bc3739.jpg: 320x640 2 ps, 1 r, 23.0ms\n",
            "image 235/492 C:\\Users\\naymm\\OneDrive\\Desktop\\Working\\2nd\\test1\\yolov5\\dataset\\train\\images\\1685295569405_jpg.rf.21d95239ac61e698dd40fe55273bad35.jpg: 256x640 1 p, 20.0ms\n",
            "image 236/492 C:\\Users\\naymm\\OneDrive\\Desktop\\Working\\2nd\\test1\\yolov5\\dataset\\train\\images\\1685295569405_jpg.rf.9bb7884fe53d1738e17c3791691ef315.jpg: 256x640 1 p, 19.5ms\n",
            "image 237/492 C:\\Users\\naymm\\OneDrive\\Desktop\\Working\\2nd\\test1\\yolov5\\dataset\\train\\images\\1685295569405_jpg.rf.d6f09e092f15ce7dfdbf65a614d3b626.jpg: 256x640 1 p, 19.5ms\n",
            "image 238/492 C:\\Users\\naymm\\OneDrive\\Desktop\\Working\\2nd\\test1\\yolov5\\dataset\\train\\images\\1685295569413_jpg.rf.193851881b2d986e844f5f704bb99cf3.jpg: 384x640 1 p, 27.5ms\n",
            "image 239/492 C:\\Users\\naymm\\OneDrive\\Desktop\\Working\\2nd\\test1\\yolov5\\dataset\\train\\images\\1685295569413_jpg.rf.96a4126191edba21cf8b34021e01c76d.jpg: 384x640 1 p, 27.0ms\n",
            "image 240/492 C:\\Users\\naymm\\OneDrive\\Desktop\\Working\\2nd\\test1\\yolov5\\dataset\\train\\images\\1685295569413_jpg.rf.c8ab5ce04aad9b12448b5d539ff5656f.jpg: 384x640 1 p, 27.5ms\n",
            "image 241/492 C:\\Users\\naymm\\OneDrive\\Desktop\\Working\\2nd\\test1\\yolov5\\dataset\\train\\images\\1685295569424_jpg.rf.06fa8b398597e784f6eec158464374f2.jpg: 640x320 1 p, 23.0ms\n",
            "image 242/492 C:\\Users\\naymm\\OneDrive\\Desktop\\Working\\2nd\\test1\\yolov5\\dataset\\train\\images\\1685295569424_jpg.rf.6ce0ea73b36627914b34e60c9860d74b.jpg: 640x320 1 p, 23.0ms\n",
            "image 243/492 C:\\Users\\naymm\\OneDrive\\Desktop\\Working\\2nd\\test1\\yolov5\\dataset\\train\\images\\1685295569424_jpg.rf.7dcd26a9eeff21d5c8f218dc190a4873.jpg: 640x320 1 p, 22.6ms\n",
            "image 244/492 C:\\Users\\naymm\\OneDrive\\Desktop\\Working\\2nd\\test1\\yolov5\\dataset\\train\\images\\1685295569430_jpg.rf.54ff6b73ce8c8d98e72505b41002a105.jpg: 640x512 2 ps, 103.7ms\n",
            "image 245/492 C:\\Users\\naymm\\OneDrive\\Desktop\\Working\\2nd\\test1\\yolov5\\dataset\\train\\images\\1685295569430_jpg.rf.be62f23b6ca9c8294d3b2f78d0c158c3.jpg: 640x512 1 p, 31.6ms\n",
            "image 246/492 C:\\Users\\naymm\\OneDrive\\Desktop\\Working\\2nd\\test1\\yolov5\\dataset\\train\\images\\1685295569430_jpg.rf.de6af677b09f175ed3cadab236c0649f.jpg: 640x512 2 ps, 31.5ms\n",
            "image 247/492 C:\\Users\\naymm\\OneDrive\\Desktop\\Working\\2nd\\test1\\yolov5\\dataset\\train\\images\\1685295569437_jpg.rf.4b613f25e7900c17fde14db29c0c6e2b.jpg: 640x512 1 p, 30.5ms\n",
            "image 248/492 C:\\Users\\naymm\\OneDrive\\Desktop\\Working\\2nd\\test1\\yolov5\\dataset\\train\\images\\1685295569437_jpg.rf.72cedcc0a942deaa2671659709782d40.jpg: 640x512 2 ps, 32.0ms\n",
            "image 249/492 C:\\Users\\naymm\\OneDrive\\Desktop\\Working\\2nd\\test1\\yolov5\\dataset\\train\\images\\1685295569437_jpg.rf.d71c84720de52a8b20c408fcb2b7c881.jpg: 640x512 2 ps, 31.5ms\n",
            "image 250/492 C:\\Users\\naymm\\OneDrive\\Desktop\\Working\\2nd\\test1\\yolov5\\dataset\\train\\images\\1685295569457_jpg.rf.69508ce66f1d5832a215f4e07ec7d991.jpg: 640x640 1 p, 38.6ms\n",
            "image 251/492 C:\\Users\\naymm\\OneDrive\\Desktop\\Working\\2nd\\test1\\yolov5\\dataset\\train\\images\\1685295569457_jpg.rf.b13542ca404ef1004677b44039f5e9f4.jpg: 640x640 2 ps, 37.5ms\n",
            "image 252/492 C:\\Users\\naymm\\OneDrive\\Desktop\\Working\\2nd\\test1\\yolov5\\dataset\\train\\images\\1685295569457_jpg.rf.ca5b10e1c323dab0b85dff7b7ab02f82.jpg: 640x640 1 p, 38.6ms\n",
            "image 253/492 C:\\Users\\naymm\\OneDrive\\Desktop\\Working\\2nd\\test1\\yolov5\\dataset\\train\\images\\1685295569463_jpg.rf.4ba4d368946b32e09326700dc5c46b80.jpg: 640x640 3 ps, 38.0ms\n",
            "image 254/492 C:\\Users\\naymm\\OneDrive\\Desktop\\Working\\2nd\\test1\\yolov5\\dataset\\train\\images\\1685295569463_jpg.rf.b8b3248a09af3b2e78227fc728124075.jpg: 640x640 3 ps, 38.1ms\n",
            "image 255/492 C:\\Users\\naymm\\OneDrive\\Desktop\\Working\\2nd\\test1\\yolov5\\dataset\\train\\images\\1685295569463_jpg.rf.c8400bcf6e9f189f0acc75a249608bc5.jpg: 640x640 3 ps, 37.6ms\n",
            "image 256/492 C:\\Users\\naymm\\OneDrive\\Desktop\\Working\\2nd\\test1\\yolov5\\dataset\\train\\images\\1685295767118_jpg.rf.08f8ea83d41bb8ba48dc67bfb6ed6d0a.jpg: 256x640 (no detections), 19.0ms\n",
            "image 257/492 C:\\Users\\naymm\\OneDrive\\Desktop\\Working\\2nd\\test1\\yolov5\\dataset\\train\\images\\1685295767118_jpg.rf.47e6e3324ef0d8706961e132701ab865.jpg: 256x640 (no detections), 20.5ms\n",
            "image 258/492 C:\\Users\\naymm\\OneDrive\\Desktop\\Working\\2nd\\test1\\yolov5\\dataset\\train\\images\\1685295767118_jpg.rf.90a42b7e4ba73b3fd30567db68b4431c.jpg: 256x640 (no detections), 19.5ms\n",
            "image 259/492 C:\\Users\\naymm\\OneDrive\\Desktop\\Working\\2nd\\test1\\yolov5\\dataset\\train\\images\\1685295767124_jpg.rf.c8c7f19c6ba94789ac96c989054dec4f.jpg: 256x640 1 r, 20.0ms\n",
            "image 260/492 C:\\Users\\naymm\\OneDrive\\Desktop\\Working\\2nd\\test1\\yolov5\\dataset\\train\\images\\1685295767124_jpg.rf.e3951b9e681b48e821ddaa30121704f4.jpg: 256x640 1 p, 1 r, 20.0ms\n",
            "image 261/492 C:\\Users\\naymm\\OneDrive\\Desktop\\Working\\2nd\\test1\\yolov5\\dataset\\train\\images\\1685295767124_jpg.rf.ef62037993f380e6bc556efc13a7c275.jpg: 256x640 1 p, 19.5ms\n",
            "image 262/492 C:\\Users\\naymm\\OneDrive\\Desktop\\Working\\2nd\\test1\\yolov5\\dataset\\train\\images\\1685295767126_jpg.rf.00abded6398aba820a65082e92a9569a.jpg: 256x640 1 p, 1 r, 21.1ms\n",
            "image 263/492 C:\\Users\\naymm\\OneDrive\\Desktop\\Working\\2nd\\test1\\yolov5\\dataset\\train\\images\\1685295767126_jpg.rf.53550df8e34ae98569257eddc529e379.jpg: 256x640 1 r, 19.0ms\n",
            "image 264/492 C:\\Users\\naymm\\OneDrive\\Desktop\\Working\\2nd\\test1\\yolov5\\dataset\\train\\images\\1685295767126_jpg.rf.7c9e52569c8e5e388e9e5502ab5d0a26.jpg: 256x640 1 p, 3 rs, 19.1ms\n",
            "image 265/492 C:\\Users\\naymm\\OneDrive\\Desktop\\Working\\2nd\\test1\\yolov5\\dataset\\train\\images\\1685295767132_jpg.rf.20500f2c47c23766c0bb11b150633a95.jpg: 320x640 2 ps, 1 r, 24.0ms\n",
            "image 266/492 C:\\Users\\naymm\\OneDrive\\Desktop\\Working\\2nd\\test1\\yolov5\\dataset\\train\\images\\1685295767132_jpg.rf.332d075c9d6c6616fac6f092b5a7fdad.jpg: 320x640 2 ps, 1 r, 22.5ms\n",
            "image 267/492 C:\\Users\\naymm\\OneDrive\\Desktop\\Working\\2nd\\test1\\yolov5\\dataset\\train\\images\\1685295767132_jpg.rf.f2267e0600f32bf1879cad16c489a84c.jpg: 320x640 2 ps, 1 r, 23.0ms\n",
            "image 268/492 C:\\Users\\naymm\\OneDrive\\Desktop\\Working\\2nd\\test1\\yolov5\\dataset\\train\\images\\1685295767135_jpg.rf.240146664c2ba0630c509774877c4353.jpg: 320x640 1 i, 1 p, 3 rs, 23.0ms\n",
            "image 269/492 C:\\Users\\naymm\\OneDrive\\Desktop\\Working\\2nd\\test1\\yolov5\\dataset\\train\\images\\1685295767135_jpg.rf.39075aed8d2e99c9ca62934daf6dd14d.jpg: 320x640 1 i, 2 ps, 2 rs, 24.1ms\n",
            "image 270/492 C:\\Users\\naymm\\OneDrive\\Desktop\\Working\\2nd\\test1\\yolov5\\dataset\\train\\images\\1685295767135_jpg.rf.add93151284d030cd188d6d4307d83dc.jpg: 320x640 1 p, 2 rs, 24.0ms\n",
            "image 271/492 C:\\Users\\naymm\\OneDrive\\Desktop\\Working\\2nd\\test1\\yolov5\\dataset\\train\\images\\1685295767138_jpg.rf.6ebe85d980273e702e4be37a1b158a4f.jpg: 256x640 1 r, 19.5ms\n",
            "image 272/492 C:\\Users\\naymm\\OneDrive\\Desktop\\Working\\2nd\\test1\\yolov5\\dataset\\train\\images\\1685295767138_jpg.rf.a8578558c78c8df04b141453ce214b84.jpg: 256x640 1 r, 20.0ms\n",
            "image 273/492 C:\\Users\\naymm\\OneDrive\\Desktop\\Working\\2nd\\test1\\yolov5\\dataset\\train\\images\\1685295767138_jpg.rf.c7e6efe80d9378b832cd8819c3cec85b.jpg: 256x640 (no detections), 20.0ms\n",
            "image 274/492 C:\\Users\\naymm\\OneDrive\\Desktop\\Working\\2nd\\test1\\yolov5\\dataset\\train\\images\\1685295767145_jpg.rf.4c47a0652f6f909a5d326d6102e45e30.jpg: 640x640 3 ps, 1 r, 38.1ms\n",
            "image 275/492 C:\\Users\\naymm\\OneDrive\\Desktop\\Working\\2nd\\test1\\yolov5\\dataset\\train\\images\\1685295767145_jpg.rf.863e0a78d457bd3fc25bfb792c9d393c.jpg: 640x640 2 ps, 1 r, 38.6ms\n",
            "image 276/492 C:\\Users\\naymm\\OneDrive\\Desktop\\Working\\2nd\\test1\\yolov5\\dataset\\train\\images\\1685295767145_jpg.rf.ba06e6268be3a3edb093297cf50198da.jpg: 640x640 2 ps, 1 r, 37.6ms\n",
            "image 277/492 C:\\Users\\naymm\\OneDrive\\Desktop\\Working\\2nd\\test1\\yolov5\\dataset\\train\\images\\1685295767149_jpg.rf.11eb9d52236b9f218fe813310195d379.jpg: 640x640 2 is, 2 ps, 1 r, 38.6ms\n",
            "image 278/492 C:\\Users\\naymm\\OneDrive\\Desktop\\Working\\2nd\\test1\\yolov5\\dataset\\train\\images\\1685295767149_jpg.rf.14a2e85b4e2ee3adec0d3bc00ccb83e0.jpg: 640x640 1 i, 1 p, 2 rs, 37.6ms\n",
            "image 279/492 C:\\Users\\naymm\\OneDrive\\Desktop\\Working\\2nd\\test1\\yolov5\\dataset\\train\\images\\1685295767149_jpg.rf.9ee1ce8def9fb32e29e4834c2420caa2.jpg: 640x640 1 p, 2 rs, 38.1ms\n",
            "image 280/492 C:\\Users\\naymm\\OneDrive\\Desktop\\Working\\2nd\\test1\\yolov5\\dataset\\train\\images\\1685295767153_jpg.rf.a51a7df0c83b3cc1331e4f8812b1be40.jpg: 640x640 2 ps, 2 rs, 38.5ms\n",
            "image 281/492 C:\\Users\\naymm\\OneDrive\\Desktop\\Working\\2nd\\test1\\yolov5\\dataset\\train\\images\\1685295767153_jpg.rf.ad23a9b5258a6f5fb7a2b077cbaea3b5.jpg: 640x640 1 p, 1 r, 37.6ms\n",
            "image 282/492 C:\\Users\\naymm\\OneDrive\\Desktop\\Working\\2nd\\test1\\yolov5\\dataset\\train\\images\\1685295767153_jpg.rf.faee8b6921c3c78f4e9379698706eeb2.jpg: 640x640 2 ps, 3 rs, 38.0ms\n",
            "image 283/492 C:\\Users\\naymm\\OneDrive\\Desktop\\Working\\2nd\\test1\\yolov5\\dataset\\train\\images\\1685295767161_jpg.rf.335b99a0dff9788a55bd85b96b42bcd0.jpg: 640x640 1 f, 3 ps, 1 r, 37.6ms\n",
            "image 284/492 C:\\Users\\naymm\\OneDrive\\Desktop\\Working\\2nd\\test1\\yolov5\\dataset\\train\\images\\1685295767161_jpg.rf.39315d4e6b3b2b4cccb91bb255dcb228.jpg: 640x640 3 ps, 1 r, 38.6ms\n",
            "image 285/492 C:\\Users\\naymm\\OneDrive\\Desktop\\Working\\2nd\\test1\\yolov5\\dataset\\train\\images\\1685295767161_jpg.rf.613065bb35de296f9453eb3e7b2680f5.jpg: 640x640 2 ps, 1 r, 37.6ms\n",
            "image 286/492 C:\\Users\\naymm\\OneDrive\\Desktop\\Working\\2nd\\test1\\yolov5\\dataset\\train\\images\\1685295974619_jpg.rf.1bf53f0e032082a3a809858db74f6cab.jpg: 192x640 1 r, 17.7ms\n",
            "image 287/492 C:\\Users\\naymm\\OneDrive\\Desktop\\Working\\2nd\\test1\\yolov5\\dataset\\train\\images\\1685295974619_jpg.rf.487b3fd568c0e69f6b7cdba38b43e344.jpg: 192x640 1 r, 17.6ms\n",
            "image 288/492 C:\\Users\\naymm\\OneDrive\\Desktop\\Working\\2nd\\test1\\yolov5\\dataset\\train\\images\\1685295974619_jpg.rf.66f24e103e04b5e49b9b2bd787f8718b.jpg: 192x640 1 r, 1 s, 17.0ms\n",
            "image 289/492 C:\\Users\\naymm\\OneDrive\\Desktop\\Working\\2nd\\test1\\yolov5\\dataset\\train\\images\\1685295974622_jpg.rf.461986d52c73398883ef6963a740a918.jpg: 256x640 1 Dove_Oxygen, 1 p, 1 s, 20.0ms\n",
            "image 290/492 C:\\Users\\naymm\\OneDrive\\Desktop\\Working\\2nd\\test1\\yolov5\\dataset\\train\\images\\1685295974622_jpg.rf.4989d17754332dab37dda300e1281581.jpg: 256x640 1 Dove_Oxygen, 1 p, 1 s, 20.0ms\n",
            "image 291/492 C:\\Users\\naymm\\OneDrive\\Desktop\\Working\\2nd\\test1\\yolov5\\dataset\\train\\images\\1685295974622_jpg.rf.f5a16c612df2ff21a7e001beead54aa0.jpg: 256x640 1 p, 1 r, 1 s, 20.0ms\n",
            "image 292/492 C:\\Users\\naymm\\OneDrive\\Desktop\\Working\\2nd\\test1\\yolov5\\dataset\\train\\images\\1685295974625_jpg.rf.45bda6704486401b6cdb7aecfdfbde12.jpg: 256x640 (no detections), 19.4ms\n",
            "image 293/492 C:\\Users\\naymm\\OneDrive\\Desktop\\Working\\2nd\\test1\\yolov5\\dataset\\train\\images\\1685295974625_jpg.rf.c338daefbe115ff79796a787c486e79f.jpg: 256x640 (no detections), 20.0ms\n",
            "image 294/492 C:\\Users\\naymm\\OneDrive\\Desktop\\Working\\2nd\\test1\\yolov5\\dataset\\train\\images\\1685295974625_jpg.rf.e3d0bceab08500488144736ecbedbe5f.jpg: 256x640 (no detections), 20.0ms\n",
            "image 295/492 C:\\Users\\naymm\\OneDrive\\Desktop\\Working\\2nd\\test1\\yolov5\\dataset\\train\\images\\1685295974632_jpg.rf.214138f0e81bf12fc2c60261cd02fed7.jpg: 320x640 1 r, 23.5ms\n",
            "image 296/492 C:\\Users\\naymm\\OneDrive\\Desktop\\Working\\2nd\\test1\\yolov5\\dataset\\train\\images\\1685295974632_jpg.rf.76887e18790e60dc092bb85a43ce81d0.jpg: 320x640 1 r, 22.6ms\n",
            "image 297/492 C:\\Users\\naymm\\OneDrive\\Desktop\\Working\\2nd\\test1\\yolov5\\dataset\\train\\images\\1685295974632_jpg.rf.bde9ce72e33bc0633b3f073db12117b6.jpg: 320x640 1 r, 23.0ms\n",
            "image 298/492 C:\\Users\\naymm\\OneDrive\\Desktop\\Working\\2nd\\test1\\yolov5\\dataset\\train\\images\\1685295974635_jpg.rf.67549989362bd50d2e46133ef29ee67f.jpg: 192x640 (no detections), 17.5ms\n",
            "image 299/492 C:\\Users\\naymm\\OneDrive\\Desktop\\Working\\2nd\\test1\\yolov5\\dataset\\train\\images\\1685295974635_jpg.rf.685406e485f400da7693cbf27074728e.jpg: 192x640 (no detections), 16.8ms\n",
            "image 300/492 C:\\Users\\naymm\\OneDrive\\Desktop\\Working\\2nd\\test1\\yolov5\\dataset\\train\\images\\1685295974635_jpg.rf.9bc6040b59b2b908eb7d9a3b117d55c1.jpg: 192x640 (no detections), 16.6ms\n",
            "image 301/492 C:\\Users\\naymm\\OneDrive\\Desktop\\Working\\2nd\\test1\\yolov5\\dataset\\train\\images\\1685295974638_jpg.rf.123068be3552950c65e952b52bbc1acd.jpg: 640x640 1 l, 1 v, 38.1ms\n",
            "image 302/492 C:\\Users\\naymm\\OneDrive\\Desktop\\Working\\2nd\\test1\\yolov5\\dataset\\train\\images\\1685295974638_jpg.rf.d29571b46c384111362d1ad27cfc6971.jpg: 640x640 1 l, 1 r, 1 v, 37.6ms\n",
            "image 303/492 C:\\Users\\naymm\\OneDrive\\Desktop\\Working\\2nd\\test1\\yolov5\\dataset\\train\\images\\1685295974638_jpg.rf.f202d2acc4d4864d03fa84ba2fcfd3aa.jpg: 640x640 1 v, 38.1ms\n",
            "image 304/492 C:\\Users\\naymm\\OneDrive\\Desktop\\Working\\2nd\\test1\\yolov5\\dataset\\train\\images\\1685295974640_jpg.rf.58da5b2fd773e13ff63bc7a21ed8a84a.jpg: 640x512 1 h, 1 r, 32.1ms\n",
            "image 305/492 C:\\Users\\naymm\\OneDrive\\Desktop\\Working\\2nd\\test1\\yolov5\\dataset\\train\\images\\1685295974640_jpg.rf.687f76ba9af063b365ca50e8469d4925.jpg: 640x512 1 h, 1 r, 31.1ms\n",
            "image 306/492 C:\\Users\\naymm\\OneDrive\\Desktop\\Working\\2nd\\test1\\yolov5\\dataset\\train\\images\\1685295974640_jpg.rf.81d23344300f9b940f4c82c5e482830c.jpg: 640x512 1 h, 1 r, 31.1ms\n",
            "image 307/492 C:\\Users\\naymm\\OneDrive\\Desktop\\Working\\2nd\\test1\\yolov5\\dataset\\train\\images\\1685295974643_jpg.rf.0951d3928a980c8ecd2353c6f0b8a520.jpg: 640x640 2 ps, 1 r, 38.8ms\n",
            "image 308/492 C:\\Users\\naymm\\OneDrive\\Desktop\\Working\\2nd\\test1\\yolov5\\dataset\\train\\images\\1685295974643_jpg.rf.6965a4787effeffcde5952884448bb5b.jpg: 640x640 2 ps, 1 r, 39.2ms\n",
            "image 309/492 C:\\Users\\naymm\\OneDrive\\Desktop\\Working\\2nd\\test1\\yolov5\\dataset\\train\\images\\1685295974643_jpg.rf.9c984c2822babc93a5676c73bef550ea.jpg: 640x640 2 ps, 1 r, 38.1ms\n",
            "image 310/492 C:\\Users\\naymm\\OneDrive\\Desktop\\Working\\2nd\\test1\\yolov5\\dataset\\train\\images\\1685295974647_jpg.rf.5d783e99ba9de8e4bfd7c39e808ab869.jpg: 640x640 2 ps, 1 r, 37.6ms\n",
            "image 311/492 C:\\Users\\naymm\\OneDrive\\Desktop\\Working\\2nd\\test1\\yolov5\\dataset\\train\\images\\1685295974647_jpg.rf.b34a5b18871573be9162294ce67149f8.jpg: 640x640 2 ps, 1 r, 37.6ms\n",
            "image 312/492 C:\\Users\\naymm\\OneDrive\\Desktop\\Working\\2nd\\test1\\yolov5\\dataset\\train\\images\\1685295974647_jpg.rf.e80b8359b72707ded4581cb8f705e357.jpg: 640x640 2 ps, 1 r, 38.5ms\n",
            "image 313/492 C:\\Users\\naymm\\OneDrive\\Desktop\\Working\\2nd\\test1\\yolov5\\dataset\\train\\images\\1685295974650_jpg.rf.377389bf7ad5b304737cccc84f7bf430.jpg: 640x640 1 p, 1 r, 38.2ms\n",
            "image 314/492 C:\\Users\\naymm\\OneDrive\\Desktop\\Working\\2nd\\test1\\yolov5\\dataset\\train\\images\\1685295974650_jpg.rf.572b6e7a9fe0ba88b564942c5240290b.jpg: 640x640 2 ps, 1 r, 37.6ms\n",
            "image 315/492 C:\\Users\\naymm\\OneDrive\\Desktop\\Working\\2nd\\test1\\yolov5\\dataset\\train\\images\\1685295974650_jpg.rf.cb3a5a78f32ec06693c213a25a4bbe55.jpg: 640x640 1 p, 1 r, 38.6ms\n",
            "image 316/492 C:\\Users\\naymm\\OneDrive\\Desktop\\Working\\2nd\\test1\\yolov5\\dataset\\train\\images\\1685295974654_jpg.rf.45a8904f1191ae28c05909f156255963.jpg: 640x640 2 ps, 1 r, 37.6ms\n",
            "image 317/492 C:\\Users\\naymm\\OneDrive\\Desktop\\Working\\2nd\\test1\\yolov5\\dataset\\train\\images\\1685295974654_jpg.rf.a9874acadd318ac9332f9037f49ba104.jpg: 640x640 3 ps, 1 r, 38.1ms\n",
            "image 318/492 C:\\Users\\naymm\\OneDrive\\Desktop\\Working\\2nd\\test1\\yolov5\\dataset\\train\\images\\1685295974654_jpg.rf.dbf80eeb2c7eceb36db7ba052e3a064e.jpg: 640x640 2 ps, 1 r, 37.1ms\n",
            "image 319/492 C:\\Users\\naymm\\OneDrive\\Desktop\\Working\\2nd\\test1\\yolov5\\dataset\\train\\images\\1685296199955_jpg.rf.0d25f43c89006af6ac428fa0d7f4a54d.jpg: 192x640 (no detections), 29.6ms\n",
            "image 320/492 C:\\Users\\naymm\\OneDrive\\Desktop\\Working\\2nd\\test1\\yolov5\\dataset\\train\\images\\1685296199955_jpg.rf.5f54dc144b99949b6cb6905f5d048004.jpg: 192x640 (no detections), 28.1ms\n",
            "image 321/492 C:\\Users\\naymm\\OneDrive\\Desktop\\Working\\2nd\\test1\\yolov5\\dataset\\train\\images\\1685296199955_jpg.rf.f90bf342ee92e81bd8ec66521fc9f09a.jpg: 192x640 (no detections), 17.0ms\n",
            "image 322/492 C:\\Users\\naymm\\OneDrive\\Desktop\\Working\\2nd\\test1\\yolov5\\dataset\\train\\images\\1685296199961_jpg.rf.77a25447a8038eb3fb1c8b01983dd002.jpg: 256x640 1 f, 1 r, 19.5ms\n",
            "image 323/492 C:\\Users\\naymm\\OneDrive\\Desktop\\Working\\2nd\\test1\\yolov5\\dataset\\train\\images\\1685296199961_jpg.rf.c7bb0613ad3a8dff7e1579d161c4e7b3.jpg: 256x640 1 p, 1 r, 19.0ms\n",
            "image 324/492 C:\\Users\\naymm\\OneDrive\\Desktop\\Working\\2nd\\test1\\yolov5\\dataset\\train\\images\\1685296199961_jpg.rf.e6237a1f14198240baf9e2da00cbf43d.jpg: 256x640 1 p, 1 r, 19.5ms\n",
            "image 325/492 C:\\Users\\naymm\\OneDrive\\Desktop\\Working\\2nd\\test1\\yolov5\\dataset\\train\\images\\1685296199964_jpg.rf.23c8e34bd568b691972ee6a7c8619be0.jpg: 384x640 1 n, 1 p, 27.0ms\n",
            "image 326/492 C:\\Users\\naymm\\OneDrive\\Desktop\\Working\\2nd\\test1\\yolov5\\dataset\\train\\images\\1685296199964_jpg.rf.7f3b30598c64c075f660850561d73aa3.jpg: 384x640 1 n, 2 ps, 26.1ms\n",
            "image 327/492 C:\\Users\\naymm\\OneDrive\\Desktop\\Working\\2nd\\test1\\yolov5\\dataset\\train\\images\\1685296199964_jpg.rf.f27883acb9cdbb3c3f4ac76e4b5181bd.jpg: 384x640 2 ps, 1 r, 26.8ms\n",
            "image 328/492 C:\\Users\\naymm\\OneDrive\\Desktop\\Working\\2nd\\test1\\yolov5\\dataset\\train\\images\\1685296199967_jpg.rf.0637423968eb1fe7201edf52d4ae6e10.jpg: 640x512 (no detections), 31.0ms\n",
            "image 329/492 C:\\Users\\naymm\\OneDrive\\Desktop\\Working\\2nd\\test1\\yolov5\\dataset\\train\\images\\1685296199967_jpg.rf.14403ae2f7ea938efd40f8f386e7b08e.jpg: 640x512 1 n, 31.5ms\n",
            "image 330/492 C:\\Users\\naymm\\OneDrive\\Desktop\\Working\\2nd\\test1\\yolov5\\dataset\\train\\images\\1685296199967_jpg.rf.d352d0bbda402c6ec1e3fe287c4f91aa.jpg: 640x512 (no detections), 31.6ms\n",
            "image 331/492 C:\\Users\\naymm\\OneDrive\\Desktop\\Working\\2nd\\test1\\yolov5\\dataset\\train\\images\\1685296199970_jpg.rf.16425285270c989592693d5111f59240.jpg: 256x640 1 f, 29.1ms\n",
            "image 332/492 C:\\Users\\naymm\\OneDrive\\Desktop\\Working\\2nd\\test1\\yolov5\\dataset\\train\\images\\1685296199970_jpg.rf.38bc217f53c8ce096af0ced5217127b7.jpg: 256x640 1 f, 19.6ms\n",
            "image 333/492 C:\\Users\\naymm\\OneDrive\\Desktop\\Working\\2nd\\test1\\yolov5\\dataset\\train\\images\\1685296199970_jpg.rf.d946b641c8a83c9ad01b798f30f7097b.jpg: 256x640 1 f, 20.0ms\n",
            "image 334/492 C:\\Users\\naymm\\OneDrive\\Desktop\\Working\\2nd\\test1\\yolov5\\dataset\\train\\images\\1685296199973_jpg.rf.50507a61dd273417c8b51b7c66e75cd5.jpg: 384x640 2 ps, 27.0ms\n",
            "image 335/492 C:\\Users\\naymm\\OneDrive\\Desktop\\Working\\2nd\\test1\\yolov5\\dataset\\train\\images\\1685296199973_jpg.rf.b8dbc0ebbe854bec4d53008c91c9837e.jpg: 384x640 2 ps, 27.6ms\n",
            "image 336/492 C:\\Users\\naymm\\OneDrive\\Desktop\\Working\\2nd\\test1\\yolov5\\dataset\\train\\images\\1685296199973_jpg.rf.e2dad6436889140230b6786d5b7db4af.jpg: 384x640 2 ps, 27.0ms\n",
            "image 337/492 C:\\Users\\naymm\\OneDrive\\Desktop\\Working\\2nd\\test1\\yolov5\\dataset\\train\\images\\1685296199976_jpg.rf.7a81d61844dc7603c4730b3da983d1ba.jpg: 640x320 1 r, 22.1ms\n",
            "image 338/492 C:\\Users\\naymm\\OneDrive\\Desktop\\Working\\2nd\\test1\\yolov5\\dataset\\train\\images\\1685296199976_jpg.rf.90dde417ba530c23e16e74744bcd9b30.jpg: 640x320 1 p, 1 r, 23.0ms\n",
            "image 339/492 C:\\Users\\naymm\\OneDrive\\Desktop\\Working\\2nd\\test1\\yolov5\\dataset\\train\\images\\1685296199976_jpg.rf.fc4f1215c53090c2b95ec6e1abb80651.jpg: 640x320 1 p, 1 r, 23.0ms\n",
            "image 340/492 C:\\Users\\naymm\\OneDrive\\Desktop\\Working\\2nd\\test1\\yolov5\\dataset\\train\\images\\1685296199982_jpg.rf.363f475c825ddaf063fd9ec446168b23.jpg: 640x512 (no detections), 30.6ms\n",
            "image 341/492 C:\\Users\\naymm\\OneDrive\\Desktop\\Working\\2nd\\test1\\yolov5\\dataset\\train\\images\\1685296199982_jpg.rf.725d8b27f6a08d621f521db9c7b8d546.jpg: 640x512 (no detections), 31.1ms\n",
            "image 342/492 C:\\Users\\naymm\\OneDrive\\Desktop\\Working\\2nd\\test1\\yolov5\\dataset\\train\\images\\1685296199982_jpg.rf.7cf00a97aef0d359ef696bbb6a993a89.jpg: 640x512 (no detections), 31.4ms\n",
            "image 343/492 C:\\Users\\naymm\\OneDrive\\Desktop\\Working\\2nd\\test1\\yolov5\\dataset\\train\\images\\1685296199986_jpg.rf.0e600aa900004ad9fb4610294761df45.jpg: 640x640 1 d, 2 is, 1 j, 38.6ms\n",
            "image 344/492 C:\\Users\\naymm\\OneDrive\\Desktop\\Working\\2nd\\test1\\yolov5\\dataset\\train\\images\\1685296199986_jpg.rf.3e93531f9bdec90ad7b8aed4e856c682.jpg: 640x640 1 i, 1 j, 1 s, 37.7ms\n",
            "image 345/492 C:\\Users\\naymm\\OneDrive\\Desktop\\Working\\2nd\\test1\\yolov5\\dataset\\train\\images\\1685296199986_jpg.rf.6e51157cd13388da56f590ac6e2fb1b8.jpg: 640x640 1 i, 1 j, 1 n, 1 s, 38.6ms\n",
            "image 346/492 C:\\Users\\naymm\\OneDrive\\Desktop\\Working\\2nd\\test1\\yolov5\\dataset\\train\\images\\1685296199990_jpg.rf.318f0298e30c34cb667109764482a13c.jpg: 512x640 1 i, 1 r, 31.6ms\n",
            "image 347/492 C:\\Users\\naymm\\OneDrive\\Desktop\\Working\\2nd\\test1\\yolov5\\dataset\\train\\images\\1685296199990_jpg.rf.36d3a92eb1a58dcad1cab0f70ea395b9.jpg: 512x640 1 i, 1 r, 31.1ms\n",
            "image 348/492 C:\\Users\\naymm\\OneDrive\\Desktop\\Working\\2nd\\test1\\yolov5\\dataset\\train\\images\\1685296199990_jpg.rf.920550d3dd2098b55c7b888c3360c342.jpg: 512x640 1 i, 31.5ms\n",
            "image 349/492 C:\\Users\\naymm\\OneDrive\\Desktop\\Working\\2nd\\test1\\yolov5\\dataset\\train\\images\\1685296199997_jpg.rf.252a0a89b7ac91f2d08ddd7470eaa58c.jpg: 640x640 2 ps, 1 r, 38.0ms\n",
            "image 350/492 C:\\Users\\naymm\\OneDrive\\Desktop\\Working\\2nd\\test1\\yolov5\\dataset\\train\\images\\1685296199997_jpg.rf.3b2f9021f16ebf2e996a810b50e8c4c9.jpg: 640x640 2 ps, 1 r, 37.5ms\n",
            "image 351/492 C:\\Users\\naymm\\OneDrive\\Desktop\\Working\\2nd\\test1\\yolov5\\dataset\\train\\images\\1685296199997_jpg.rf.eb4aa1a08250343de697c2e136a2a4a2.jpg: 640x640 2 ps, 1 r, 38.6ms\n",
            "image 352/492 C:\\Users\\naymm\\OneDrive\\Desktop\\Working\\2nd\\test1\\yolov5\\dataset\\train\\images\\1685296200001_jpg.rf.576bd8d4da4ca70d4cf55119c5299aea.jpg: 640x640 2 ps, 2 rs, 1 s, 37.5ms\n",
            "image 353/492 C:\\Users\\naymm\\OneDrive\\Desktop\\Working\\2nd\\test1\\yolov5\\dataset\\train\\images\\1685296200001_jpg.rf.af39cbe323d4db779cf3f321fd151d07.jpg: 640x640 1 j, 1 p, 1 r, 38.6ms\n",
            "image 354/492 C:\\Users\\naymm\\OneDrive\\Desktop\\Working\\2nd\\test1\\yolov5\\dataset\\train\\images\\1685296200001_jpg.rf.d33e26cef5d229b5ded791d23c5c88e9.jpg: 640x640 1 j, 1 p, 2 rs, 37.6ms\n",
            "image 355/492 C:\\Users\\naymm\\OneDrive\\Desktop\\Working\\2nd\\test1\\yolov5\\dataset\\train\\images\\1685296435956_jpg.rf.305a9e9d1b2169bafeeb7345ac115276.jpg: 256x640 (no detections), 28.6ms\n",
            "image 356/492 C:\\Users\\naymm\\OneDrive\\Desktop\\Working\\2nd\\test1\\yolov5\\dataset\\train\\images\\1685296435956_jpg.rf.b2fb000c198bdea956c21f4d7bbc7dce.jpg: 256x640 (no detections), 27.5ms\n",
            "image 357/492 C:\\Users\\naymm\\OneDrive\\Desktop\\Working\\2nd\\test1\\yolov5\\dataset\\train\\images\\1685296435956_jpg.rf.c1f32aa9d1a50c7c0e672a97087c3604.jpg: 256x640 1 p, 19.6ms\n",
            "image 358/492 C:\\Users\\naymm\\OneDrive\\Desktop\\Working\\2nd\\test1\\yolov5\\dataset\\train\\images\\1685296435962_jpg.rf.0d5ef2f41b0d2f3b252c759458aa7a00.jpg: 192x640 (no detections), 17.0ms\n",
            "image 359/492 C:\\Users\\naymm\\OneDrive\\Desktop\\Working\\2nd\\test1\\yolov5\\dataset\\train\\images\\1685296435962_jpg.rf.4664169ac7ea9e921aeb267f3f56cbe4.jpg: 192x640 1 p, 17.6ms\n",
            "image 360/492 C:\\Users\\naymm\\OneDrive\\Desktop\\Working\\2nd\\test1\\yolov5\\dataset\\train\\images\\1685296435962_jpg.rf.c5068d290e411716df50dd74084a3e60.jpg: 192x640 1 p, 17.0ms\n",
            "image 361/492 C:\\Users\\naymm\\OneDrive\\Desktop\\Working\\2nd\\test1\\yolov5\\dataset\\train\\images\\1685296435965_jpg.rf.08b546be7689a10140e6929855c34020.jpg: 192x640 1 p, 16.6ms\n",
            "image 362/492 C:\\Users\\naymm\\OneDrive\\Desktop\\Working\\2nd\\test1\\yolov5\\dataset\\train\\images\\1685296435965_jpg.rf.84a716ff1cf2c67497b78a981fb189ac.jpg: 192x640 1 p, 17.0ms\n",
            "image 363/492 C:\\Users\\naymm\\OneDrive\\Desktop\\Working\\2nd\\test1\\yolov5\\dataset\\train\\images\\1685296435965_jpg.rf.e666bc2f49b8c4210557d9635534a032.jpg: 192x640 1 p, 17.0ms\n",
            "image 364/492 C:\\Users\\naymm\\OneDrive\\Desktop\\Working\\2nd\\test1\\yolov5\\dataset\\train\\images\\1685296435967_jpg.rf.1de3c272c3102e724e62dc2d835ef1ec.jpg: 256x640 (no detections), 21.0ms\n",
            "image 365/492 C:\\Users\\naymm\\OneDrive\\Desktop\\Working\\2nd\\test1\\yolov5\\dataset\\train\\images\\1685296435967_jpg.rf.34ad1713ff1cdecd8e871a588086a848.jpg: 256x640 (no detections), 20.0ms\n",
            "image 366/492 C:\\Users\\naymm\\OneDrive\\Desktop\\Working\\2nd\\test1\\yolov5\\dataset\\train\\images\\1685296435967_jpg.rf.e01169f13384ffcb55fd411cb3bcc865.jpg: 256x640 (no detections), 20.0ms\n",
            "image 367/492 C:\\Users\\naymm\\OneDrive\\Desktop\\Working\\2nd\\test1\\yolov5\\dataset\\train\\images\\1685296435970_jpg.rf.4075f05b96110c5326bb8394c0f9485c.jpg: 320x640 2 ps, 23.0ms\n",
            "image 368/492 C:\\Users\\naymm\\OneDrive\\Desktop\\Working\\2nd\\test1\\yolov5\\dataset\\train\\images\\1685296435970_jpg.rf.9d4083b1865497532ba2a52b76d3113b.jpg: 320x640 2 ps, 24.1ms\n",
            "image 369/492 C:\\Users\\naymm\\OneDrive\\Desktop\\Working\\2nd\\test1\\yolov5\\dataset\\train\\images\\1685296435970_jpg.rf.d5d21d81dc5ec494db487b5329370c40.jpg: 320x640 2 ps, 23.5ms\n",
            "image 370/492 C:\\Users\\naymm\\OneDrive\\Desktop\\Working\\2nd\\test1\\yolov5\\dataset\\train\\images\\1685296435972_jpg.rf.18239e794729881bdfe652be94df9046.jpg: 640x512 2 ps, 1 q, 31.1ms\n",
            "image 371/492 C:\\Users\\naymm\\OneDrive\\Desktop\\Working\\2nd\\test1\\yolov5\\dataset\\train\\images\\1685296435972_jpg.rf.39d3c23c2d156392c2f9cee7e09e0876.jpg: 640x512 2 ps, 1 r, 31.1ms\n",
            "image 372/492 C:\\Users\\naymm\\OneDrive\\Desktop\\Working\\2nd\\test1\\yolov5\\dataset\\train\\images\\1685296435972_jpg.rf.6e52321014ff115b7f432ce46eed7673.jpg: 640x512 2 ps, 1 r, 31.0ms\n",
            "image 373/492 C:\\Users\\naymm\\OneDrive\\Desktop\\Working\\2nd\\test1\\yolov5\\dataset\\train\\images\\1685296435976_jpg.rf.3ab6d77ee9035544ed89be957e78a0a2.jpg: 640x640 2 ps, 37.5ms\n",
            "image 374/492 C:\\Users\\naymm\\OneDrive\\Desktop\\Working\\2nd\\test1\\yolov5\\dataset\\train\\images\\1685296435976_jpg.rf.bb469021944796abf4440636f5c5ba2c.jpg: 640x640 2 ps, 1 w, 38.0ms\n",
            "image 375/492 C:\\Users\\naymm\\OneDrive\\Desktop\\Working\\2nd\\test1\\yolov5\\dataset\\train\\images\\1685296435976_jpg.rf.dfbdbc5adbef50bc1beb42d0bf14d31f.jpg: 640x640 2 ps, 37.6ms\n",
            "image 376/492 C:\\Users\\naymm\\OneDrive\\Desktop\\Working\\2nd\\test1\\yolov5\\dataset\\train\\images\\1685296435979_jpg.rf.3dc2d85481f476b9aa20440a958f9f05.jpg: 640x640 3 ps, 38.5ms\n",
            "image 377/492 C:\\Users\\naymm\\OneDrive\\Desktop\\Working\\2nd\\test1\\yolov5\\dataset\\train\\images\\1685296435979_jpg.rf.9c88a351aedd208ea713fca4f2d0dfb3.jpg: 640x640 3 ps, 38.1ms\n",
            "image 378/492 C:\\Users\\naymm\\OneDrive\\Desktop\\Working\\2nd\\test1\\yolov5\\dataset\\train\\images\\1685296435979_jpg.rf.e8a5c49d7b00719d9ebe6af692b53e75.jpg: 640x640 3 ps, 37.4ms\n",
            "image 379/492 C:\\Users\\naymm\\OneDrive\\Desktop\\Working\\2nd\\test1\\yolov5\\dataset\\train\\images\\1685296435983_jpg.rf.2a28c8fd6e3deb32bccaad48aafdaa8b.jpg: 640x640 2 ps, 38.6ms\n",
            "image 380/492 C:\\Users\\naymm\\OneDrive\\Desktop\\Working\\2nd\\test1\\yolov5\\dataset\\train\\images\\1685296435983_jpg.rf.7b75f181e7fc49952e8f2ab40974b0f1.jpg: 640x640 2 ps, 37.3ms\n",
            "image 381/492 C:\\Users\\naymm\\OneDrive\\Desktop\\Working\\2nd\\test1\\yolov5\\dataset\\train\\images\\1685296435983_jpg.rf.a953f55da883b39b2963fff8fcc38daf.jpg: 640x640 3 ps, 38.1ms\n",
            "image 382/492 C:\\Users\\naymm\\OneDrive\\Desktop\\Working\\2nd\\test1\\yolov5\\dataset\\train\\images\\1685296803095_jpg.rf.2bd57145e5f2ef6f9d04f72d02f2e788.jpg: 640x640 2 ps, 1 r, 38.1ms\n",
            "image 383/492 C:\\Users\\naymm\\OneDrive\\Desktop\\Working\\2nd\\test1\\yolov5\\dataset\\train\\images\\1685296803095_jpg.rf.ec079c73635f09156ec55bfe2b5bd503.jpg: 640x640 2 ps, 1 r, 37.6ms\n",
            "image 384/492 C:\\Users\\naymm\\OneDrive\\Desktop\\Working\\2nd\\test1\\yolov5\\dataset\\train\\images\\1685296803095_jpg.rf.fd86a6b666e132676e1c8fa10726cdb8.jpg: 640x640 2 ps, 2 rs, 37.5ms\n",
            "image 385/492 C:\\Users\\naymm\\OneDrive\\Desktop\\Working\\2nd\\test1\\yolov5\\dataset\\train\\images\\1685296803101_jpg.rf.3e3e4cda66373983f5bed1e0b233d991.jpg: 256x640 (no detections), 20.5ms\n",
            "image 386/492 C:\\Users\\naymm\\OneDrive\\Desktop\\Working\\2nd\\test1\\yolov5\\dataset\\train\\images\\1685296803101_jpg.rf.9aab533b328ad889deb90a3b8690114c.jpg: 256x640 1 p, 20.0ms\n",
            "image 387/492 C:\\Users\\naymm\\OneDrive\\Desktop\\Working\\2nd\\test1\\yolov5\\dataset\\train\\images\\1685296803101_jpg.rf.f73fb2f5ed18abe2e4dcfcd05b377bf7.jpg: 256x640 (no detections), 19.6ms\n",
            "image 388/492 C:\\Users\\naymm\\OneDrive\\Desktop\\Working\\2nd\\test1\\yolov5\\dataset\\train\\images\\1685296803105_jpg.rf.386eeadf19acc56c6f2679ddafdfa8fd.jpg: 384x640 1 f, 1 i, 27.6ms\n",
            "image 389/492 C:\\Users\\naymm\\OneDrive\\Desktop\\Working\\2nd\\test1\\yolov5\\dataset\\train\\images\\1685296803105_jpg.rf.48445f2f0e7047601fc6dd491c966112.jpg: 384x640 1 p, 27.6ms\n",
            "image 390/492 C:\\Users\\naymm\\OneDrive\\Desktop\\Working\\2nd\\test1\\yolov5\\dataset\\train\\images\\1685296803105_jpg.rf.fc4e98c72b2517ed9a3c213e60a6fdba.jpg: 384x640 1 f, 1 i, 28.1ms\n",
            "image 391/492 C:\\Users\\naymm\\OneDrive\\Desktop\\Working\\2nd\\test1\\yolov5\\dataset\\train\\images\\1685296803108_jpg.rf.6b6754561d00427dd23979078f314407.jpg: 640x640 2 ps, 2 rs, 38.1ms\n",
            "image 392/492 C:\\Users\\naymm\\OneDrive\\Desktop\\Working\\2nd\\test1\\yolov5\\dataset\\train\\images\\1685296803108_jpg.rf.7c9fb36090d6f4a66ae28c2416e43985.jpg: 640x640 2 ps, 2 rs, 38.0ms\n",
            "image 393/492 C:\\Users\\naymm\\OneDrive\\Desktop\\Working\\2nd\\test1\\yolov5\\dataset\\train\\images\\1685296803108_jpg.rf.bfc037c7c460de252a29830e531ae0ed.jpg: 640x640 3 ps, 2 rs, 38.5ms\n",
            "image 394/492 C:\\Users\\naymm\\OneDrive\\Desktop\\Working\\2nd\\test1\\yolov5\\dataset\\train\\images\\1685296803114_jpg.rf.0c71ab87e251a1f5883dc7406b803d35.jpg: 640x640 3 ps, 2 rs, 38.1ms\n",
            "image 395/492 C:\\Users\\naymm\\OneDrive\\Desktop\\Working\\2nd\\test1\\yolov5\\dataset\\train\\images\\1685296803114_jpg.rf.25c49a5d01c51d321405174d65173ccd.jpg: 640x640 2 ps, 1 r, 38.0ms\n",
            "image 396/492 C:\\Users\\naymm\\OneDrive\\Desktop\\Working\\2nd\\test1\\yolov5\\dataset\\train\\images\\1685296803114_jpg.rf.41aad4c6d6a74dca549d4b5a67aa6d6f.jpg: 640x640 3 ps, 2 rs, 38.1ms\n",
            "image 397/492 C:\\Users\\naymm\\OneDrive\\Desktop\\Working\\2nd\\test1\\yolov5\\dataset\\train\\images\\1685296803121_jpg.rf.b730b7e77130b0cb2307fb6541dab74d.jpg: 640x512 3 ps, 1 r, 30.6ms\n",
            "image 398/492 C:\\Users\\naymm\\OneDrive\\Desktop\\Working\\2nd\\test1\\yolov5\\dataset\\train\\images\\1685296803121_jpg.rf.cee3fe006fb0f2bda13db35d659223c1.jpg: 640x512 2 ps, 1 r, 31.0ms\n",
            "image 399/492 C:\\Users\\naymm\\OneDrive\\Desktop\\Working\\2nd\\test1\\yolov5\\dataset\\train\\images\\1685296803121_jpg.rf.d045f989d1958d40337514ae4e0975b6.jpg: 640x512 1 p, 1 r, 31.6ms\n",
            "image 400/492 C:\\Users\\naymm\\OneDrive\\Desktop\\Working\\2nd\\test1\\yolov5\\dataset\\train\\images\\1685296803124_jpg.rf.0d6d1fb2ad13c98160f03f7a04798268.jpg: 640x640 4 ps, 1 r, 37.5ms\n",
            "image 401/492 C:\\Users\\naymm\\OneDrive\\Desktop\\Working\\2nd\\test1\\yolov5\\dataset\\train\\images\\1685296803124_jpg.rf.0ec27ec523fec58a47549af8bc198318.jpg: 640x640 4 ps, 1 r, 37.6ms\n",
            "image 402/492 C:\\Users\\naymm\\OneDrive\\Desktop\\Working\\2nd\\test1\\yolov5\\dataset\\train\\images\\1685296803124_jpg.rf.ebc76dbe4e070b96ff9f72334a961d49.jpg: 640x640 4 ps, 1 r, 39.0ms\n",
            "image 403/492 C:\\Users\\naymm\\OneDrive\\Desktop\\Working\\2nd\\test1\\yolov5\\dataset\\train\\images\\1685296803132_jpg.rf.683fd3f3b9556c6d9b30c9ad306c3b7a.jpg: 192x640 1 p, 17.1ms\n",
            "image 404/492 C:\\Users\\naymm\\OneDrive\\Desktop\\Working\\2nd\\test1\\yolov5\\dataset\\train\\images\\1685296803132_jpg.rf.c57a96e0203b8dd552a803c71fdb7df5.jpg: 192x640 1 p, 17.0ms\n",
            "image 405/492 C:\\Users\\naymm\\OneDrive\\Desktop\\Working\\2nd\\test1\\yolov5\\dataset\\train\\images\\1685296803132_jpg.rf.d6bdd7089edaf326cd4425f984023b45.jpg: 192x640 1 p, 17.0ms\n",
            "image 406/492 C:\\Users\\naymm\\OneDrive\\Desktop\\Working\\2nd\\test1\\yolov5\\dataset\\train\\images\\1685296803135_jpg.rf.1645b0f96178e9b9980b183922ea1039.jpg: 640x640 1 p, 38.1ms\n",
            "image 407/492 C:\\Users\\naymm\\OneDrive\\Desktop\\Working\\2nd\\test1\\yolov5\\dataset\\train\\images\\1685296803135_jpg.rf.609f2b13e0adf6898e7749bb4c67cb49.jpg: 640x640 3 ps, 1 r, 38.1ms\n",
            "image 408/492 C:\\Users\\naymm\\OneDrive\\Desktop\\Working\\2nd\\test1\\yolov5\\dataset\\train\\images\\1685296803135_jpg.rf.92a6767ee6b237e61efb4d1ba683d539.jpg: 640x640 3 ps, 1 r, 38.5ms\n",
            "image 409/492 C:\\Users\\naymm\\OneDrive\\Desktop\\Working\\2nd\\test1\\yolov5\\dataset\\train\\images\\1685296803152_jpg.rf.538dc11091ed3f5d95d0aec88f5756c0.jpg: 640x512 3 ps, 1 r, 30.0ms\n",
            "image 410/492 C:\\Users\\naymm\\OneDrive\\Desktop\\Working\\2nd\\test1\\yolov5\\dataset\\train\\images\\1685296803152_jpg.rf.688fdecc889c0a1fe877ce6810fa3a1c.jpg: 640x512 2 ps, 1 r, 30.6ms\n",
            "image 411/492 C:\\Users\\naymm\\OneDrive\\Desktop\\Working\\2nd\\test1\\yolov5\\dataset\\train\\images\\1685296803152_jpg.rf.7acdbfda38e82f74a5a1169b7ca3e954.jpg: 640x512 2 ps, 1 r, 31.1ms\n",
            "image 412/492 C:\\Users\\naymm\\OneDrive\\Desktop\\Working\\2nd\\test1\\yolov5\\dataset\\train\\images\\1685296803156_jpg.rf.117f45e6313058443c4cb54332507fb8.jpg: 640x640 2 ps, 3 rs, 38.1ms\n",
            "image 413/492 C:\\Users\\naymm\\OneDrive\\Desktop\\Working\\2nd\\test1\\yolov5\\dataset\\train\\images\\1685296803156_jpg.rf.9bf2b987246284e8b8d59cd3bab60874.jpg: 640x640 2 ps, 3 rs, 37.6ms\n",
            "image 414/492 C:\\Users\\naymm\\OneDrive\\Desktop\\Working\\2nd\\test1\\yolov5\\dataset\\train\\images\\1685296803156_jpg.rf.da7d2487e647777fc5ef79bfe43104d8.jpg: 640x640 2 ps, 2 rs, 38.6ms\n",
            "image 415/492 C:\\Users\\naymm\\OneDrive\\Desktop\\Working\\2nd\\test1\\yolov5\\dataset\\train\\images\\1685296803160_jpg.rf.1531b6212a9829069ee5ffe8b60d5f30.jpg: 640x640 2 ps, 1 r, 38.0ms\n",
            "image 416/492 C:\\Users\\naymm\\OneDrive\\Desktop\\Working\\2nd\\test1\\yolov5\\dataset\\train\\images\\1685296803160_jpg.rf.ca723454ca475f6f6db4cdf62941c064.jpg: 640x640 3 ps, 1 r, 37.5ms\n",
            "image 417/492 C:\\Users\\naymm\\OneDrive\\Desktop\\Working\\2nd\\test1\\yolov5\\dataset\\train\\images\\1685296803160_jpg.rf.de879a16bf0ccb5e8fd12e8a9581f7b7.jpg: 640x640 2 ps, 37.5ms\n",
            "image 418/492 C:\\Users\\naymm\\OneDrive\\Desktop\\Working\\2nd\\test1\\yolov5\\dataset\\train\\images\\1685296803167_jpg.rf.1c80ae9e4bc7deb21746ee0c5133d38c.jpg: 640x512 1 p, 32.0ms\n",
            "image 419/492 C:\\Users\\naymm\\OneDrive\\Desktop\\Working\\2nd\\test1\\yolov5\\dataset\\train\\images\\1685296803167_jpg.rf.cd4304abbe6442586b8d01f9e33ce0a7.jpg: 640x512 1 p, 1 q, 2 rs, 31.5ms\n",
            "image 420/492 C:\\Users\\naymm\\OneDrive\\Desktop\\Working\\2nd\\test1\\yolov5\\dataset\\train\\images\\1685296803167_jpg.rf.e3921c218c4bca82d54f916ca886feaa.jpg: 640x512 1 p, 1 q, 1 r, 30.6ms\n",
            "image 421/492 C:\\Users\\naymm\\OneDrive\\Desktop\\Working\\2nd\\test1\\yolov5\\dataset\\train\\images\\1685296803172_jpg.rf.08b223614d3402018ffcaedef02ea62d.jpg: 640x640 2 ps, 1 r, 37.6ms\n",
            "image 422/492 C:\\Users\\naymm\\OneDrive\\Desktop\\Working\\2nd\\test1\\yolov5\\dataset\\train\\images\\1685296803172_jpg.rf.2b53cc48039742e7cb764cd00b03122a.jpg: 640x640 2 ps, 1 r, 37.6ms\n",
            "image 423/492 C:\\Users\\naymm\\OneDrive\\Desktop\\Working\\2nd\\test1\\yolov5\\dataset\\train\\images\\1685296803172_jpg.rf.f353f6ce4a2e249d71fd0f7f557b7f4b.jpg: 640x640 2 ps, 1 r, 38.1ms\n",
            "image 424/492 C:\\Users\\naymm\\OneDrive\\Desktop\\Working\\2nd\\test1\\yolov5\\dataset\\train\\images\\C01-2099667_jpg.rf.1ae76e01bbe22ac55224cbc5fee7a725.jpg: 640x640 2 Tresemme_Greens, 1 c, 4 ds, 8 es, 2 fs, 2 is, 7 js, 2 ls, 7 ms, 16 os, 1 s, 1 t, 1 u, 37.1ms\n",
            "image 425/492 C:\\Users\\naymm\\OneDrive\\Desktop\\Working\\2nd\\test1\\yolov5\\dataset\\train\\images\\C01-2099667_jpg.rf.2bd771898bc51395d5ff52a5097a0c23.jpg: 640x640 2 Tresemme_Greens, 1 c, 4 ds, 5 es, 2 fs, 2 is, 7 js, 2 ls, 7 ms, 17 os, 1 s, 1 t, 1 u, 38.6ms\n",
            "image 426/492 C:\\Users\\naymm\\OneDrive\\Desktop\\Working\\2nd\\test1\\yolov5\\dataset\\train\\images\\C01-2099667_jpg.rf.6e855de102e12ed4c8324b124bceec15.jpg: 640x640 2 Tresemme_Greens, 1 c, 4 ds, 8 es, 2 fs, 2 is, 7 js, 1 l, 8 ms, 17 os, 1 s, 1 t, 1 u, 38.0ms\n",
            "image 427/492 C:\\Users\\naymm\\OneDrive\\Desktop\\Working\\2nd\\test1\\yolov5\\dataset\\train\\images\\C03-2173_jpg.rf.0ed1f8653ac0bcbf1722cdce04647b74.jpg: 640x640 1 a, 3 bs, 1 c, 5 ds, 5 es, 4 fs, 5 gs, 6 hs, 5 is, 3 js, 2 ls, 1 n, 5 qs, 1 r, 5 ss, 3 us, 38.1ms\n",
            "image 428/492 C:\\Users\\naymm\\OneDrive\\Desktop\\Working\\2nd\\test1\\yolov5\\dataset\\train\\images\\C03-2173_jpg.rf.19e5bbd9cc93bce0e706ddfb1e56f278.jpg: 640x640 1 a, 3 bs, 1 c, 5 ds, 5 es, 4 fs, 5 gs, 6 hs, 5 is, 3 js, 2 ls, 1 n, 5 qs, 1 r, 5 ss, 1 t, 3 us, 38.1ms\n",
            "image 429/492 C:\\Users\\naymm\\OneDrive\\Desktop\\Working\\2nd\\test1\\yolov5\\dataset\\train\\images\\C03-2173_jpg.rf.a008b825e157c9dbb8991d9555b4f127.jpg: 640x640 1 a, 3 bs, 1 c, 5 ds, 5 es, 4 fs, 5 gs, 6 hs, 5 is, 3 js, 2 ls, 1 n, 5 qs, 1 r, 5 ss, 4 us, 38.5ms\n",
            "image 430/492 C:\\Users\\naymm\\OneDrive\\Desktop\\Working\\2nd\\test1\\yolov5\\dataset\\train\\images\\C04-0433-1_jpg.rf.4605f430533bbac3006fbf71054415c9.jpg: 640x640 2 as, 5 bs, 2 cs, 7 ds, 8 es, 1 g, 3 hs, 2 is, 2 js, 2 ks, 6 ls, 10 qs, 6 ss, 2 ts, 39.1ms\n",
            "image 431/492 C:\\Users\\naymm\\OneDrive\\Desktop\\Working\\2nd\\test1\\yolov5\\dataset\\train\\images\\C04-0433-1_jpg.rf.aefb78c6cc2d5270850cf299c7cbccb0.jpg: 640x640 2 as, 5 bs, 2 cs, 7 ds, 8 es, 2 gs, 3 hs, 2 is, 2 js, 2 ks, 6 ls, 10 qs, 6 ss, 2 ts, 38.1ms\n",
            "image 432/492 C:\\Users\\naymm\\OneDrive\\Desktop\\Working\\2nd\\test1\\yolov5\\dataset\\train\\images\\C04-0433-1_jpg.rf.b6f692f69010771856853ee0e870f107.jpg: 640x640 2 as, 5 bs, 2 cs, 7 ds, 8 es, 2 gs, 3 hs, 2 is, 2 js, 2 ks, 6 ls, 10 qs, 6 ss, 2 ts, 38.6ms\n",
            "image 433/492 C:\\Users\\naymm\\OneDrive\\Desktop\\Working\\2nd\\test1\\yolov5\\dataset\\train\\images\\C04-0433-3_jpg.rf.0fca602c9ef31e1d5e15df1a65d39768.jpg: 640x640 1 a, 11 bs, 1 c, 3 ds, 4 es, 2 gs, 3 is, 1 j, 2 ks, 6 ls, 13 qs, 5 ss, 2 ts, 2 vs, 37.6ms\n",
            "image 434/492 C:\\Users\\naymm\\OneDrive\\Desktop\\Working\\2nd\\test1\\yolov5\\dataset\\train\\images\\C04-0433-3_jpg.rf.cd755333f6958fa45303ee054f35997d.jpg: 640x640 1 a, 5 bs, 1 c, 3 ds, 4 es, 2 gs, 3 is, 1 j, 2 ks, 6 ls, 12 qs, 4 ss, 2 ts, 2 vs, 38.1ms\n",
            "image 435/492 C:\\Users\\naymm\\OneDrive\\Desktop\\Working\\2nd\\test1\\yolov5\\dataset\\train\\images\\C04-0433-3_jpg.rf.e12fb6e38e20cc436d12906a3692b697.jpg: 640x640 1 a, 11 bs, 1 c, 3 ds, 4 es, 2 gs, 3 is, 1 j, 2 ks, 6 ls, 12 qs, 4 ss, 2 ts, 2 vs, 38.1ms\n",
            "image 436/492 C:\\Users\\naymm\\OneDrive\\Desktop\\Working\\2nd\\test1\\yolov5\\dataset\\train\\images\\C04-1377-3_jpg.rf.0ca7e3d78f3892cd89ecaa373b4d0003.jpg: 640x640 3 Dove_Oxygens, 10 bs, 2 cs, 4 ds, 12 es, 2 fs, 2 gs, 5 is, 3 js, 4 ls, 2 ns, 2 os, 8 qs, 9 ss, 3 ts, 1 u, 37.1ms\n",
            "image 437/492 C:\\Users\\naymm\\OneDrive\\Desktop\\Working\\2nd\\test1\\yolov5\\dataset\\train\\images\\C04-1377-3_jpg.rf.55f2c5df6b7d9cfb86d721969f96c29e.jpg: 640x640 3 Dove_Oxygens, 10 bs, 2 cs, 4 ds, 12 es, 2 fs, 2 gs, 5 is, 3 js, 4 ls, 2 ns, 2 os, 8 qs, 9 ss, 3 ts, 1 u, 38.6ms\n",
            "image 438/492 C:\\Users\\naymm\\OneDrive\\Desktop\\Working\\2nd\\test1\\yolov5\\dataset\\train\\images\\C04-1377-3_jpg.rf.8262eada2f88423524b4bbb820cd60d7.jpg: 640x640 3 Dove_Oxygens, 11 bs, 2 cs, 4 ds, 13 es, 2 fs, 2 gs, 5 is, 3 js, 4 ls, 2 ns, 2 os, 8 qs, 9 ss, 3 ts, 1 u, 38.1ms\n",
            "image 439/492 C:\\Users\\naymm\\OneDrive\\Desktop\\Working\\2nd\\test1\\yolov5\\dataset\\train\\images\\C04-1377-5_jpg.rf.46816360e7e49580fb1be5cd2ef89580.jpg: 640x640 1 Dove_Oxygen, 10 bs, 2 cs, 6 ds, 12 es, 1 f, 3 gs, 8 is, 2 js, 4 ns, 2 os, 12 qs, 11 ss, 2 ts, 38.1ms\n",
            "image 440/492 C:\\Users\\naymm\\OneDrive\\Desktop\\Working\\2nd\\test1\\yolov5\\dataset\\train\\images\\C04-1377-5_jpg.rf.ace86226ba1ba0d8066e197d8dd16fc1.jpg: 640x640 10 bs, 2 cs, 5 ds, 12 es, 1 f, 3 gs, 9 is, 2 js, 4 ns, 2 os, 12 qs, 11 ss, 1 t, 37.6ms\n",
            "image 441/492 C:\\Users\\naymm\\OneDrive\\Desktop\\Working\\2nd\\test1\\yolov5\\dataset\\train\\images\\C04-1377-5_jpg.rf.de1bc488f2e94bb6ff23e7561d81fc75.jpg: 640x640 1 Dove_Oxygen, 10 bs, 2 cs, 6 ds, 12 es, 1 f, 3 gs, 8 is, 2 js, 4 ns, 2 os, 12 qs, 11 ss, 1 t, 38.6ms\n",
            "image 442/492 C:\\Users\\naymm\\OneDrive\\Desktop\\Working\\2nd\\test1\\yolov5\\dataset\\train\\images\\C22-1621-3_jpg.rf.7f81615c8b1a457eb6a033cb39070927.jpg: 640x640 26 bs, 14 ds, 6 es, 11 gs, 1 i, 3 ls, 8 ss, 1 u, 3 vs, 37.6ms\n",
            "image 443/492 C:\\Users\\naymm\\OneDrive\\Desktop\\Working\\2nd\\test1\\yolov5\\dataset\\train\\images\\C22-1621-3_jpg.rf.e483759ae94623470053cde36a0bf2fd.jpg: 640x640 26 bs, 14 ds, 6 es, 11 gs, 1 i, 3 ls, 8 ss, 1 u, 3 vs, 38.1ms\n",
            "image 444/492 C:\\Users\\naymm\\OneDrive\\Desktop\\Working\\2nd\\test1\\yolov5\\dataset\\train\\images\\C22-1621-3_jpg.rf.f82f03369331b3356a8543247710b035.jpg: 640x640 26 bs, 14 ds, 6 es, 11 gs, 1 i, 3 ls, 8 ss, 1 u, 3 vs, 38.6ms\n",
            "image 445/492 C:\\Users\\naymm\\OneDrive\\Desktop\\Working\\2nd\\test1\\yolov5\\dataset\\train\\images\\D03-7602_jpg.rf.8793856e441bbcb55ed6a6f7748de9b8.jpg: 640x640 5 Dove_Oxygens, 1 Sunsilk_Purple, 4 Tresemme_Greens, 4 as, 7 bs, 3 cs, 3 ds, 7 es, 1 g, 2 hs, 3 is, 4 js, 6 ks, 3 ls, 4 ns, 6 os, 8 ps, 10 qs, 3 rs, 5 ss, 3 us, 37.6ms\n",
            "image 446/492 C:\\Users\\naymm\\OneDrive\\Desktop\\Working\\2nd\\test1\\yolov5\\dataset\\train\\images\\D03-7602_jpg.rf.a8322610973ea443023755436d1e6813.jpg: 640x640 5 Dove_Oxygens, 1 Sunsilk_Purple, 4 Tresemme_Greens, 4 as, 7 bs, 3 cs, 3 ds, 7 es, 1 g, 2 hs, 4 is, 4 js, 6 ks, 3 ls, 4 ns, 6 os, 8 ps, 9 qs, 3 rs, 6 ss, 3 us, 37.1ms\n",
            "image 447/492 C:\\Users\\naymm\\OneDrive\\Desktop\\Working\\2nd\\test1\\yolov5\\dataset\\train\\images\\D03-7602_jpg.rf.ef2e84c057c14e4c75aede15786c12f1.jpg: 640x640 6 Dove_Oxygens, 1 Sunsilk_Purple, 3 Tresemme_Greens, 4 as, 7 bs, 3 cs, 3 ds, 7 es, 1 g, 2 hs, 4 is, 4 js, 6 ks, 3 ls, 4 ns, 6 os, 9 ps, 9 qs, 3 rs, 6 ss, 3 us, 38.1ms\n",
            "image 448/492 C:\\Users\\naymm\\OneDrive\\Desktop\\Working\\2nd\\test1\\yolov5\\dataset\\train\\images\\D15-08727_jpg.rf.99e94ecce665d44b9581f2cff2ade108.jpg: 640x640 1 Sunsilk_Green, 2 as, 9 bs, 5 cs, 6 ds, 5 es, 5 gs, 2 hs, 6 is, 4 js, 2 ks, 6 ls, 2 ms, 3 ns, 4 os, 5 ps, 13 qs, 1 r, 8 ss, 8 ts, 37.1ms\n",
            "image 449/492 C:\\Users\\naymm\\OneDrive\\Desktop\\Working\\2nd\\test1\\yolov5\\dataset\\train\\images\\D15-08727_jpg.rf.afa6580da1e06b62d5b1378152440f95.jpg: 640x640 1 Sunsilk_Green, 2 as, 9 bs, 5 cs, 6 ds, 5 es, 6 gs, 2 hs, 5 is, 3 js, 1 k, 6 ls, 2 ms, 3 ns, 4 os, 4 ps, 12 qs, 1 r, 8 ss, 8 ts, 37.1ms\n",
            "image 450/492 C:\\Users\\naymm\\OneDrive\\Desktop\\Working\\2nd\\test1\\yolov5\\dataset\\train\\images\\D15-08727_jpg.rf.b8ec6b409e1208032139b4f6908c4a04.jpg: 640x640 1 Sunsilk_Green, 2 as, 9 bs, 5 cs, 6 ds, 5 es, 5 gs, 2 hs, 5 is, 4 js, 1 k, 6 ls, 2 ms, 3 ns, 6 os, 4 ps, 12 qs, 1 r, 8 ss, 8 ts, 38.5ms\n",
            "image 451/492 C:\\Users\\naymm\\OneDrive\\Desktop\\Working\\2nd\\test1\\yolov5\\dataset\\train\\images\\D34-0854-4_jpg.rf.323978b632c24a5c35ac75245775ef5b.jpg: 640x640 1 a, 3 bs, 16 ds, 6 es, 1 g, 3 hs, 6 is, 4 js, 5 ls, 4 ns, 1 p, 3 qs, 12 ss, 4 ws, 39.1ms\n",
            "image 452/492 C:\\Users\\naymm\\OneDrive\\Desktop\\Working\\2nd\\test1\\yolov5\\dataset\\train\\images\\D34-0854-4_jpg.rf.8e9bff97165d1d1c6bc676a57bb89720.jpg: 640x640 1 a, 4 bs, 17 ds, 5 es, 1 g, 3 hs, 6 is, 4 js, 4 ls, 5 ns, 1 p, 4 qs, 12 ss, 4 ws, 37.1ms\n",
            "image 453/492 C:\\Users\\naymm\\OneDrive\\Desktop\\Working\\2nd\\test1\\yolov5\\dataset\\train\\images\\D34-0854-4_jpg.rf.a385ca4cd7b2591e26835b41de9e0de6.jpg: 640x640 1 a, 4 bs, 16 ds, 6 es, 1 g, 3 hs, 6 is, 4 js, 4 ls, 5 ns, 1 p, 4 qs, 12 ss, 4 ws, 38.6ms\n",
            "image 454/492 C:\\Users\\naymm\\OneDrive\\Desktop\\Working\\2nd\\test1\\yolov5\\dataset\\train\\images\\IMG_20230508_140418_jpg.rf.653235e5381d4146570791b4c3e78149.jpg: 640x640 1 Dove_Oxygen, 2 cs, 6 ds, 2 es, 2 ks, 1 n, 1 q, 1 r, 2 ss, 2 us, 38.1ms\n",
            "image 455/492 C:\\Users\\naymm\\OneDrive\\Desktop\\Working\\2nd\\test1\\yolov5\\dataset\\train\\images\\IMG_20230508_140418_jpg.rf.8d7ba2cd5939a805371dff5c111230f4.jpg: 640x640 1 Dove_Oxygen, 2 bs, 1 c, 3 ds, 2 es, 2 ks, 1 n, 1 q, 1 r, 1 s, 2 us, 38.1ms\n",
            "image 456/492 C:\\Users\\naymm\\OneDrive\\Desktop\\Working\\2nd\\test1\\yolov5\\dataset\\train\\images\\IMG_20230508_140418_jpg.rf.a7684daec778fb39f2d909aeee0098d9.jpg: 640x640 1 Dove_Oxygen, 2 cs, 6 ds, 1 e, 2 ks, 1 n, 1 q, 1 r, 1 s, 3 us, 37.1ms\n",
            "image 457/492 C:\\Users\\naymm\\OneDrive\\Desktop\\Working\\2nd\\test1\\yolov5\\dataset\\train\\images\\K01-0035_jpg.rf.10f36b6f28561f3da85a65e41cda3819.jpg: 640x640 1 Tresemme_HD, 10 bs, 3 ds, 7 es, 3 is, 2 js, 9 ls, 2 ms, 5 ns, 1 p, 12 qs, 4 rs, 2 ss, 6 ts, 11 us, 2 vs, 37.1ms\n",
            "image 458/492 C:\\Users\\naymm\\OneDrive\\Desktop\\Working\\2nd\\test1\\yolov5\\dataset\\train\\images\\K01-0035_jpg.rf.3a61f6575969c22c2c703d9283f3ae36.jpg: 640x640 1 Tresemme_HD, 10 bs, 3 ds, 6 es, 3 is, 2 js, 9 ls, 2 ms, 5 ns, 1 p, 12 qs, 4 rs, 2 ss, 6 ts, 11 us, 2 vs, 38.6ms\n",
            "image 459/492 C:\\Users\\naymm\\OneDrive\\Desktop\\Working\\2nd\\test1\\yolov5\\dataset\\train\\images\\K01-0035_jpg.rf.d082e0835c11381489824c02cf6b0c7b.jpg: 640x640 1 Tresemme_HD, 11 bs, 3 ds, 6 es, 1 f, 3 is, 2 js, 9 ls, 2 ms, 5 ns, 1 p, 12 qs, 4 rs, 2 ss, 6 ts, 11 us, 2 vs, 38.6ms\n",
            "image 460/492 C:\\Users\\naymm\\OneDrive\\Desktop\\Working\\2nd\\test1\\yolov5\\dataset\\train\\images\\K10-0030_jpg.rf.507dd832655cade61f25483613304523.jpg: 640x640 2 Tresemme_Greens, 5 as, 2 cs, 3 ds, 2 es, 3 gs, 1 h, 3 js, 2 ls, 2 ns, 3 os, 4 ps, 5 qs, 7 vs, 6 ws, 36.6ms\n",
            "image 461/492 C:\\Users\\naymm\\OneDrive\\Desktop\\Working\\2nd\\test1\\yolov5\\dataset\\train\\images\\K10-0030_jpg.rf.602008e7a0f221632638c81be1841441.jpg: 640x640 2 Tresemme_Greens, 5 as, 2 cs, 3 ds, 2 es, 3 gs, 1 h, 3 js, 3 ls, 2 ns, 3 os, 4 ps, 5 qs, 1 s, 7 vs, 6 ws, 37.6ms\n",
            "image 462/492 C:\\Users\\naymm\\OneDrive\\Desktop\\Working\\2nd\\test1\\yolov5\\dataset\\train\\images\\K10-0030_jpg.rf.f721a8a0378d4a25a23096a4af672482.jpg: 640x640 2 Tresemme_Greens, 5 as, 2 cs, 4 ds, 2 es, 3 gs, 1 h, 3 js, 1 l, 2 ns, 3 os, 4 ps, 5 qs, 1 s, 7 vs, 6 ws, 38.1ms\n",
            "image 463/492 C:\\Users\\naymm\\OneDrive\\Desktop\\Working\\2nd\\test1\\yolov5\\dataset\\train\\images\\K10-0139_jpg.rf.24f688a8eb809ac9bba0c9aafbaaf33d.jpg: 640x640 4 as, 8 bs, 3 cs, 1 d, 6 es, 3 fs, 2 gs, 2 hs, 6 is, 4 js, 6 ls, 4 ns, 6 os, 6 ps, 4 qs, 4 rs, 8 ss, 4 ts, 2 us, 37.6ms\n",
            "image 464/492 C:\\Users\\naymm\\OneDrive\\Desktop\\Working\\2nd\\test1\\yolov5\\dataset\\train\\images\\K10-0139_jpg.rf.3907fd4c6fce151a195b3433c72344e3.jpg: 640x640 4 as, 8 bs, 3 cs, 1 d, 6 es, 3 fs, 3 gs, 2 hs, 6 is, 5 js, 6 ls, 4 ns, 6 os, 6 ps, 4 qs, 4 rs, 8 ss, 4 ts, 2 us, 38.1ms\n",
            "image 465/492 C:\\Users\\naymm\\OneDrive\\Desktop\\Working\\2nd\\test1\\yolov5\\dataset\\train\\images\\K10-0139_jpg.rf.bd9a84320966ef1e47ed3dff9fe58eb5.jpg: 640x640 4 as, 8 bs, 3 cs, 2 ds, 6 es, 3 fs, 3 gs, 2 hs, 6 is, 5 js, 6 ls, 5 ns, 5 os, 6 ps, 4 qs, 4 rs, 8 ss, 4 ts, 2 us, 37.1ms\n",
            "image 466/492 C:\\Users\\naymm\\OneDrive\\Desktop\\Working\\2nd\\test1\\yolov5\\dataset\\train\\images\\K10-0359_jpg.rf.49341ec8a4b2905daa04454a4d84be3d.jpg: 640x640 1 Dove_Oxygen, 4 as, 3 bs, 8 es, 1 f, 2 gs, 4 hs, 3 js, 1 l, 2 ms, 1 o, 2 ps, 6 qs, 7 ss, 6 ts, 9 us, 38.1ms\n",
            "image 467/492 C:\\Users\\naymm\\OneDrive\\Desktop\\Working\\2nd\\test1\\yolov5\\dataset\\train\\images\\K10-0359_jpg.rf.99eb44779b8d131888e8928763b9193b.jpg: 640x640 1 Dove_Oxygen, 4 as, 3 bs, 8 es, 1 f, 2 gs, 4 hs, 3 js, 1 l, 2 ms, 1 o, 2 ps, 6 qs, 7 ss, 6 ts, 9 us, 37.1ms\n",
            "image 468/492 C:\\Users\\naymm\\OneDrive\\Desktop\\Working\\2nd\\test1\\yolov5\\dataset\\train\\images\\K10-0359_jpg.rf.b6beb9f49dfef922c93545d2580f4c57.jpg: 640x640 1 Dove_Oxygen, 4 as, 3 bs, 8 es, 1 f, 2 gs, 4 hs, 3 js, 1 l, 2 ms, 1 o, 2 ps, 6 qs, 6 ss, 6 ts, 9 us, 38.1ms\n",
            "image 469/492 C:\\Users\\naymm\\OneDrive\\Desktop\\Working\\2nd\\test1\\yolov5\\dataset\\train\\images\\K21-2216_jpg.rf.7ed1d413843d37d9a441740edbb6c6d7.jpg: 640x640 1 Dove_Oxygen, 3 as, 3 bs, 2 cs, 4 ds, 9 es, 5 gs, 6 hs, 4 ls, 1 m, 2 ns, 7 os, 18 qs, 6 ss, 2 us, 2 vs, 2 ws, 38.1ms\n",
            "image 470/492 C:\\Users\\naymm\\OneDrive\\Desktop\\Working\\2nd\\test1\\yolov5\\dataset\\train\\images\\K21-2216_jpg.rf.bee51ed23a66d4535914c5ac5c712691.jpg: 640x640 2 Dove_Oxygens, 3 as, 3 bs, 2 cs, 4 ds, 9 es, 5 gs, 6 hs, 4 ls, 1 m, 2 ns, 7 os, 17 qs, 5 ss, 2 us, 1 v, 2 ws, 38.1ms\n",
            "image 471/492 C:\\Users\\naymm\\OneDrive\\Desktop\\Working\\2nd\\test1\\yolov5\\dataset\\train\\images\\K21-2216_jpg.rf.c00da933e0fa051dd992205e263a46a4.jpg: 640x640 2 Dove_Oxygens, 3 as, 3 bs, 2 cs, 4 ds, 9 es, 5 gs, 6 hs, 4 ls, 1 m, 2 ns, 7 os, 17 qs, 4 ss, 2 us, 2 vs, 2 ws, 37.1ms\n",
            "image 472/492 C:\\Users\\naymm\\OneDrive\\Desktop\\Working\\2nd\\test1\\yolov5\\dataset\\train\\images\\K31-0091_1_jpg.rf.3ee11a8f12e8b648390c32f7e5524ea4.jpg: 640x640 1 Tresemme_HD, 9 bs, 1 c, 9 ds, 6 es, 1 f, 3 gs, 3 hs, 1 i, 4 js, 5 ls, 2 os, 1 p, 5 qs, 1 r, 2 ss, 1 t, 6 us, 1 w, 37.6ms\n",
            "image 473/492 C:\\Users\\naymm\\OneDrive\\Desktop\\Working\\2nd\\test1\\yolov5\\dataset\\train\\images\\K31-0091_1_jpg.rf.cf1a5d32617be87a0db02d21ca66fc65.jpg: 640x640 1 Dove_Oxygen, 1 Tresemme_HD, 9 bs, 1 c, 9 ds, 6 es, 1 f, 3 gs, 3 hs, 1 i, 4 js, 5 ls, 2 os, 1 p, 5 qs, 1 r, 2 ss, 1 t, 6 us, 1 w, 38.1ms\n",
            "image 474/492 C:\\Users\\naymm\\OneDrive\\Desktop\\Working\\2nd\\test1\\yolov5\\dataset\\train\\images\\K31-0091_1_jpg.rf.fb11e76998bb11b74e226aa6e6647735.jpg: 640x640 1 Tresemme_HD, 9 bs, 1 c, 9 ds, 6 es, 1 f, 3 gs, 3 hs, 4 js, 5 ls, 2 os, 1 p, 5 qs, 1 r, 2 ss, 6 us, 1 w, 38.1ms\n",
            "image 475/492 C:\\Users\\naymm\\OneDrive\\Desktop\\Working\\2nd\\test1\\yolov5\\dataset\\train\\images\\K31-1907_jpg.rf.3c2410eb3f322e69636d2f64702b16c4.jpg: 640x640 3 as, 7 bs, 1 c, 6 ds, 10 es, 5 fs, 3 is, 3 js, 1 k, 1 l, 2 ps, 15 qs, 8 ss, 1 t, 3 us, 38.1ms\n",
            "image 476/492 C:\\Users\\naymm\\OneDrive\\Desktop\\Working\\2nd\\test1\\yolov5\\dataset\\train\\images\\K31-1907_jpg.rf.7a30e2506625b498d3f3daf6831e204e.jpg: 640x640 3 as, 7 bs, 1 c, 6 ds, 10 es, 5 fs, 3 is, 3 js, 1 k, 1 l, 2 ps, 15 qs, 8 ss, 1 t, 3 us, 37.6ms\n",
            "image 477/492 C:\\Users\\naymm\\OneDrive\\Desktop\\Working\\2nd\\test1\\yolov5\\dataset\\train\\images\\K31-1907_jpg.rf.f85552e7c5485caed04954f889234d1b.jpg: 640x640 3 as, 7 bs, 1 c, 6 ds, 10 es, 5 fs, 3 is, 3 js, 1 k, 1 l, 2 ps, 15 qs, 8 ss, 1 t, 3 us, 38.6ms\n",
            "image 478/492 C:\\Users\\naymm\\OneDrive\\Desktop\\Working\\2nd\\test1\\yolov5\\dataset\\train\\images\\K31-1929_jpg.rf.43de88dce0080870fda01c2bc9484fcb.jpg: 640x640 2 Dove_Oxygens, 2 Tresemme_Greens, 2 as, 6 bs, 2 cs, 6 ds, 4 es, 1 f, 1 g, 1 h, 3 js, 5 ls, 1 n, 10 qs, 7 ss, 3 ts, 5 us, 4 ws, 38.6ms\n",
            "image 479/492 C:\\Users\\naymm\\OneDrive\\Desktop\\Working\\2nd\\test1\\yolov5\\dataset\\train\\images\\K31-1929_jpg.rf.931c66c7d65b93080b9a3c25e17cdba4.jpg: 640x640 2 Dove_Oxygens, 2 Tresemme_Greens, 2 as, 6 bs, 2 cs, 6 ds, 4 es, 1 f, 1 g, 1 h, 3 js, 4 ls, 1 n, 11 qs, 7 ss, 3 ts, 5 us, 3 ws, 37.6ms\n",
            "image 480/492 C:\\Users\\naymm\\OneDrive\\Desktop\\Working\\2nd\\test1\\yolov5\\dataset\\train\\images\\K31-1929_jpg.rf.ae1bb54345b6ac1e5e64869d9ec71b0f.jpg: 640x640 2 Dove_Oxygens, 2 Tresemme_Greens, 2 as, 6 bs, 2 cs, 6 ds, 4 es, 1 f, 1 g, 1 h, 3 js, 4 ls, 1 n, 10 qs, 5 ss, 3 ts, 5 us, 3 ws, 38.6ms\n",
            "image 481/492 C:\\Users\\naymm\\OneDrive\\Desktop\\Working\\2nd\\test1\\yolov5\\dataset\\train\\images\\dsasd_jpeg.rf.0fa133078c5cc4003404b93bcfe29e52.jpg: 640x640 2 ps, 1 r, 38.0ms\n",
            "image 482/492 C:\\Users\\naymm\\OneDrive\\Desktop\\Working\\2nd\\test1\\yolov5\\dataset\\train\\images\\dsasd_jpeg.rf.432a54f2de163a054695d50be66918c2.jpg: 640x640 1 e, 2 ps, 38.6ms\n",
            "image 483/492 C:\\Users\\naymm\\OneDrive\\Desktop\\Working\\2nd\\test1\\yolov5\\dataset\\train\\images\\dsasd_jpeg.rf.da6cdb98dd39b336b1144583fc0da11e.jpg: 640x640 1 e, 2 ps, 39.1ms\n",
            "image 484/492 C:\\Users\\naymm\\OneDrive\\Desktop\\Working\\2nd\\test1\\yolov5\\dataset\\train\\images\\ggsdf_jpeg.rf.01bde59a263c9798835a4fea00728de1.jpg: 640x640 1 f, 1 p, 39.1ms\n",
            "image 485/492 C:\\Users\\naymm\\OneDrive\\Desktop\\Working\\2nd\\test1\\yolov5\\dataset\\train\\images\\ggsdf_jpeg.rf.5b58b4d4865ac69e1ef8a1027da97e02.jpg: 640x640 1 f, 1 p, 38.1ms\n",
            "image 486/492 C:\\Users\\naymm\\OneDrive\\Desktop\\Working\\2nd\\test1\\yolov5\\dataset\\train\\images\\ggsdf_jpeg.rf.8b99099a255618a1fc6b0201adbb3bbf.jpg: 640x640 1 f, 1 p, 38.0ms\n",
            "image 487/492 C:\\Users\\naymm\\OneDrive\\Desktop\\Working\\2nd\\test1\\yolov5\\dataset\\train\\images\\jghjrty_jpeg.rf.43bbb6ff617cffd5147e42c5aeddc5df.jpg: 640x512 1 i, 1 p, 31.6ms\n",
            "image 488/492 C:\\Users\\naymm\\OneDrive\\Desktop\\Working\\2nd\\test1\\yolov5\\dataset\\train\\images\\jghjrty_jpeg.rf.463c62281e235af2c517991f2aad7405.jpg: 640x512 1 i, 1 p, 31.1ms\n",
            "image 489/492 C:\\Users\\naymm\\OneDrive\\Desktop\\Working\\2nd\\test1\\yolov5\\dataset\\train\\images\\jghjrty_jpeg.rf.b6b8e1e5b5e841642245e705acfd8d13.jpg: 640x512 1 i, 1 p, 31.6ms\n",
            "image 490/492 C:\\Users\\naymm\\OneDrive\\Desktop\\Working\\2nd\\test1\\yolov5\\dataset\\train\\images\\sdweew_jpeg.rf.0ae5b3f9f5dacdc7e5ddadcc4e5db3f8.jpg: 640x640 3 ps, 1 r, 37.6ms\n",
            "image 491/492 C:\\Users\\naymm\\OneDrive\\Desktop\\Working\\2nd\\test1\\yolov5\\dataset\\train\\images\\sdweew_jpeg.rf.2d9d56bfb998b0646ba635e83451d139.jpg: 640x640 3 ps, 2 rs, 38.6ms\n",
            "image 492/492 C:\\Users\\naymm\\OneDrive\\Desktop\\Working\\2nd\\test1\\yolov5\\dataset\\train\\images\\sdweew_jpeg.rf.9854006a06f7effd234ad7f3f439c814.jpg: 640x640 3 ps, 2 rs, 37.5ms\n",
            "Speed: 0.3ms pre-process, 32.7ms inference, 1.5ms NMS per image at shape (1, 3, 640, 640)\n",
            "Results saved to \u001b[1mruns\\detect\\exp3\u001b[0m\n"
          ]
        }
      ],
      "source": [
        "# %cd yolov5\n",
        "!python detect.py --weights weights/CountModel95.pt  --source dataset/train/images --device 0"
      ]
    },
    {
      "cell_type": "code",
      "execution_count": null,
      "metadata": {},
      "outputs": [],
      "source": [
        "display.Image(filename='runs/detect/exp10', width=2048)"
      ]
    },
    {
      "cell_type": "code",
      "execution_count": null,
      "metadata": {},
      "outputs": [],
      "source": []
    }
  ],
  "metadata": {
    "accelerator": "GPU",
    "colab": {
      "gpuType": "T4",
      "provenance": []
    },
    "gpuClass": "standard",
    "kernelspec": {
      "display_name": "Python 3",
      "name": "python3"
    },
    "language_info": {
      "codemirror_mode": {
        "name": "ipython",
        "version": 3
      },
      "file_extension": ".py",
      "mimetype": "text/x-python",
      "name": "python",
      "nbconvert_exporter": "python",
      "pygments_lexer": "ipython3",
      "version": "3.11.3"
    }
  },
  "nbformat": 4,
  "nbformat_minor": 0
}
